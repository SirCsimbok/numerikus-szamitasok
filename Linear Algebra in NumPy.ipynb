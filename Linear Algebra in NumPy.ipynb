{
 "cells": [
  {
   "cell_type": "markdown",
   "metadata": {},
   "source": [
    "<div class=\"h1\">Lineáris algebra NumPy-ban</div>"
   ]
  },
  {
   "cell_type": "markdown",
   "metadata": {
    "toc": "true"
   },
   "source": [
    "# Table of Contents\n",
    " <p><div class=\"lev1 toc-item\"><a href=\"#Lists-vs-Numpy-Arrays\" data-toc-modified-id=\"Lists-vs-Numpy-Arrays-1\"><span class=\"toc-item-num\">1&nbsp;&nbsp;</span>Lists vs Numpy Arrays</a></div><div class=\"lev1 toc-item\"><a href=\"#Arrays-as-Vectors\" data-toc-modified-id=\"Arrays-as-Vectors-2\"><span class=\"toc-item-num\">2&nbsp;&nbsp;</span>Arrays as Vectors</a></div><div class=\"lev2 toc-item\"><a href=\"#Vector-dimension-vs.-Array-dimension\" data-toc-modified-id=\"Vector-dimension-vs.-Array-dimension-21\"><span class=\"toc-item-num\">2.1&nbsp;&nbsp;</span>Vector dimension vs. Array dimension</a></div><div class=\"lev2 toc-item\"><a href=\"#Visualizing-2D-vectors\" data-toc-modified-id=\"Visualizing-2D-vectors-22\"><span class=\"toc-item-num\">2.2&nbsp;&nbsp;</span>Visualizing 2D vectors</a></div><div class=\"lev2 toc-item\"><a href=\"#Operations-on-Vectors\" data-toc-modified-id=\"Operations-on-Vectors-23\"><span class=\"toc-item-num\">2.3&nbsp;&nbsp;</span>Operations on Vectors</a></div><div class=\"lev2 toc-item\"><a href=\"#The-inner-product\" data-toc-modified-id=\"The-inner-product-24\"><span class=\"toc-item-num\">2.4&nbsp;&nbsp;</span>The inner product</a></div><div class=\"lev2 toc-item\"><a href=\"#The-norm-of-a-vector\" data-toc-modified-id=\"The-norm-of-a-vector-25\"><span class=\"toc-item-num\">2.5&nbsp;&nbsp;</span>The norm of a vector</a></div><div class=\"lev1 toc-item\"><a href=\"#Matrices---Notation-and-Operations\" data-toc-modified-id=\"Matrices---Notation-and-Operations-3\"><span class=\"toc-item-num\">3&nbsp;&nbsp;</span>Matrices $-$ Notation and Operations</a></div><div class=\"lev2 toc-item\"><a href=\"#Transposing-a-Matrix\" data-toc-modified-id=\"Transposing-a-Matrix-31\"><span class=\"toc-item-num\">3.1&nbsp;&nbsp;</span>Transposing a Matrix</a></div><div class=\"lev2 toc-item\"><a href=\"#Splitting-a-Matrix\" data-toc-modified-id=\"Splitting-a-Matrix-32\"><span class=\"toc-item-num\">3.2&nbsp;&nbsp;</span>Splitting a Matrix</a></div><div class=\"lev1 toc-item\"><a href=\"#Numpy-functions\" data-toc-modified-id=\"Numpy-functions-4\"><span class=\"toc-item-num\">4&nbsp;&nbsp;</span>Numpy functions</a></div><div class=\"lev2 toc-item\"><a href=\"#Matrix---scalar-operations\" data-toc-modified-id=\"Matrix---scalar-operations-41\"><span class=\"toc-item-num\">4.1&nbsp;&nbsp;</span>Matrix - scalar operations</a></div><div class=\"lev2 toc-item\"><a href=\"#Matrix-Vector,-Matrix-Matrix-operations\" data-toc-modified-id=\"Matrix-Vector,-Matrix-Matrix-operations-42\"><span class=\"toc-item-num\">4.2&nbsp;&nbsp;</span>Matrix-Vector, Matrix-Matrix operations</a></div><div class=\"lev2 toc-item\"><a href=\"#Inverting-a-Matrix\" data-toc-modified-id=\"Inverting-a-Matrix-43\"><span class=\"toc-item-num\">4.3&nbsp;&nbsp;</span>Inverting a Matrix</a></div><div class=\"lev1 toc-item\"><a href=\"#Solving-a-system-of-linear-equations\" data-toc-modified-id=\"Solving-a-system-of-linear-equations-5\"><span class=\"toc-item-num\">5&nbsp;&nbsp;</span>Solving a system of linear equations</a></div><div class=\"lev2 toc-item\"><a href=\"#Example\" data-toc-modified-id=\"Example-51\"><span class=\"toc-item-num\">5.1&nbsp;&nbsp;</span>Example</a></div>"
   ]
  },
  {
   "cell_type": "code",
   "execution_count": 1,
   "metadata": {
    "collapsed": true
   },
   "outputs": [],
   "source": [
    "%matplotlib inline"
   ]
  },
  {
   "cell_type": "code",
   "execution_count": 8,
   "metadata": {},
   "outputs": [],
   "source": [
    "import matplotlib.pyplot as plt\n",
    "import numpy as np\n",
    "from numpy.linalg import norm\n",
    "import sympy as sp\n",
    "from sympy import *\n",
    "import sys # only need to determine version numbers\n",
    "import matplotlib # only need to determine version number\n",
    "import IPython # only need to determine version number"
   ]
  },
  {
   "cell_type": "code",
   "execution_count": 9,
   "metadata": {},
   "outputs": [
    {
     "name": "stdout",
     "output_type": "stream",
     "text": [
      "Python version: 3.6.2 |Anaconda custom (64-bit)| (default, Jul 20 2017, 12:30:02) [MSC v.1900 64 bit (AMD64)]\n",
      "Jupyter notebook version: 6.1.0\n",
      "Matplotlib version: 2.0.2\n",
      "Numpy version: 1.13.1\n",
      "Sympy version: 1.1.1\n"
     ]
    }
   ],
   "source": [
    "print('Python version: ' + sys.version)\n",
    "print('Jupyter notebook version: ' + IPython.__version__)\n",
    "print('Matplotlib version: ' + matplotlib.__version__)\n",
    "print('Numpy version: ' + np.__version__)\n",
    "print('Sympy version: ' + sp.__version__)"
   ]
  },
  {
   "cell_type": "code",
   "execution_count": 3,
   "metadata": {
    "collapsed": true
   },
   "outputs": [],
   "source": [
    "from IPython.display import HTML,Latex, display\n",
    "init_printing(use_unicode=True) # nice output"
   ]
  },
  {
   "cell_type": "markdown",
   "metadata": {},
   "source": [
    "# Lists vs Numpy Arrays\n",
    "<p class=\"myp\">\n",
    "The <span class=\"keyword\">numpy</span> library (we will reference it by <span class=\"keyword\">np</span>) is the workhorse library for linear algebra in python.  To create a vector simply surround a python list ($[1,2,3]$) with the <span class=\"keyword\">np.array</span> function:</p>"
   ]
  },
  {
   "cell_type": "code",
   "execution_count": 12,
   "metadata": {},
   "outputs": [
    {
     "name": "stdout",
     "output_type": "stream",
     "text": [
      "[1 2 3]\n"
     ]
    }
   ],
   "source": [
    "x_vector = np.array([1,2,3])\n",
    "print(x_vector)"
   ]
  },
  {
   "cell_type": "markdown",
   "metadata": {},
   "source": [
    "<p class=\"myp\"> \n",
    "The function <span class=\"keyword\">np.array</span> converts a python list to an array:\n",
    "</p>"
   ]
  },
  {
   "cell_type": "code",
   "execution_count": 13,
   "metadata": {},
   "outputs": [
    {
     "name": "stdout",
     "output_type": "stream",
     "text": [
      "The list: [1, 2]\n",
      "Has length: 2\n",
      "The vector: [1 2]\n",
      "Has shape: (2,)\n"
     ]
    }
   ],
   "source": [
    "c_list = [1,2]\n",
    "print(\"The list:\",c_list)\n",
    "print(\"Has length:\", len(c_list))\n",
    "\n",
    "c_vector = np.array(c_list)\n",
    "print(\"The vector:\", c_vector)\n",
    "print(\"Has shape:\",c_vector.shape)"
   ]
  },
  {
   "cell_type": "code",
   "execution_count": 6,
   "metadata": {},
   "outputs": [
    {
     "name": "stdout",
     "output_type": "stream",
     "text": [
      "This is a list, not an array: [5, 6]\n",
      "<class 'list'>\n"
     ]
    }
   ],
   "source": [
    "z = [5,6]   # a list\n",
    "print(\"This is a list, not an array:\",z)\n",
    "print(type(z))"
   ]
  },
  {
   "cell_type": "code",
   "execution_count": 8,
   "metadata": {},
   "outputs": [
    {
     "name": "stdout",
     "output_type": "stream",
     "text": [
      "This is an array, not a list [5 6]\n",
      "<class 'numpy.ndarray'>\n"
     ]
    }
   ],
   "source": [
    "zarray = np.array(z)\n",
    "print(\"This is an array, not a list\",zarray)\n",
    "print(type(zarray))"
   ]
  },
  {
   "cell_type": "markdown",
   "metadata": {},
   "source": [
    "# Arrays as Vectors\n",
    "<p class=\"myp\">One way to define vectors in numpy is to use a one dimensional array.</p>"
   ]
  },
  {
   "cell_type": "code",
   "execution_count": 9,
   "metadata": {},
   "outputs": [
    {
     "name": "stdout",
     "output_type": "stream",
     "text": [
      "[1 2] [-1  1]\n"
     ]
    }
   ],
   "source": [
    "v1=np.array([1,2])\n",
    "v2=np.array([-1,1])\n",
    "print(v1,v2)"
   ]
  },
  {
   "cell_type": "markdown",
   "metadata": {},
   "source": [
    "## Vector dimension vs. Array dimension\n",
    "<p class=\"myp\">The word <span style=\"text-decoration: underline;\">dimension</span> has two different meanings in this context.</p>"
   ]
  },
  {
   "cell_type": "markdown",
   "metadata": {},
   "source": [
    "<ul class=\"myp\">\n",
    "    <li>The array $np.array([1,2,3,4])$ defines a <span style=\"text-decoration: underline\">vector</span> in $\\mathbf{R}^4$, i.e. a vector of dimension $4$.</li>\n",
    "    <li>The array $np.array([1,2,3,4])$ \n",
    "<span style=\"text-decoration: underline\">is</span> a 1D array, which is a list of numbers.</li>\n",
    "    <li>The array $np.array([[1,2],[3,4]])$ is a 2D array, which is a rectangle of numbers.</li>\n",
    "    <li>A 2D array is also called a <span style=\"text-decoration: underline\">Matrix</span> (more about those later).</li>\n",
    "</ul>"
   ]
  },
  {
   "cell_type": "code",
   "execution_count": 14,
   "metadata": {},
   "outputs": [
    {
     "data": {
      "text/plain": [
       "array([[1, 2],\n",
       "       [3, 4]])"
      ]
     },
     "execution_count": 14,
     "metadata": {},
     "output_type": "execute_result"
    }
   ],
   "source": [
    "np.array([[1,2],[3,4]])"
   ]
  },
  {
   "cell_type": "markdown",
   "metadata": {},
   "source": [
    "## Visualizing 2D vectors\n",
    "<p class=\"myp\">\n",
    "Vectors are commonly represented by arrows. The tail of the arrow is at zero, and the $(x,y)$ coordinates of the head of the arrow correspond to the two components of the vector: $\\vec{a} = [a_1,a_2]$ \n",
    "</p>"
   ]
  },
  {
   "cell_type": "code",
   "execution_count": 16,
   "metadata": {
    "collapsed": true
   },
   "outputs": [],
   "source": [
    "text_loc = 1.1\n",
    "def plot_arrows(L,scale=4,text_loc=0.2,fontsize=12):\n",
    "    \"\"\" Plot a list of arrows. Each arrow defined by start and end points and a color and optionally text\"\"\"\n",
    "    plt.figure(figsize=[6,6])\n",
    "    plt.xlim([-scale,scale])\n",
    "    plt.ylim([-scale,scale])\n",
    "    ax = plt.axes()\n",
    "    plt.xlabel('1st coord (x)')\n",
    "    plt.ylabel('2nd coord (y)')\n",
    "    #ax.axis('equal')\n",
    "\n",
    "    for A in L:\n",
    "        s,e,c = A[:3]\n",
    "        ax.arrow(s[0], s[1], e[0], e[1], head_width=0.05*scale, head_length=0.1*scale, fc=c, ec=c,length_includes_head=True);\n",
    "        if len(A) == 4:\n",
    "            t = A[3]\n",
    "            _loc = 1 + text_loc/norm(e)\n",
    "            ax.text(_loc*e[0],_loc*e[1],t,fontsize=fontsize)\n",
    "    plt.grid()\n",
    "    return ax\n",
    "zero = np.array([0,0])"
   ]
  },
  {
   "cell_type": "code",
   "execution_count": 17,
   "metadata": {},
   "outputs": [
    {
     "data": {
      "image/png": "[encoded data removed]",
      "text/plain": [
       "<matplotlib.figure.Figure at 0x1cea2a420f0>"
      ]
     },
     "metadata": {},
     "output_type": "display_data"
    }
   ],
   "source": [
    "v1 = np.array([1,2])\n",
    "v2 = np.array([-1,1])\n",
    "v3 = np.array([0,-2])\n",
    "plot_arrows([[zero,v1,'r',str(v1)],[zero,v2,'k',str(v2)],[zero,v3,'b',str(v3)]]);"
   ]
  },
  {
   "cell_type": "markdown",
   "metadata": {},
   "source": [
    "## Operations on Vectors\n",
    "<p class=\"myp\">Vectors (represented as 1D arrays) can be added, inverted, and multiplied by a scalar.</p>"
   ]
  },
  {
   "cell_type": "code",
   "execution_count": 18,
   "metadata": {},
   "outputs": [
    {
     "name": "stdout",
     "output_type": "stream",
     "text": [
      "v1= [1 2] v2= [-1  1]\n",
      "v1+v2= [0 3]\n",
      "4*v2= [-4  4]\n",
      "-v1= [-1 -2]\n"
     ]
    }
   ],
   "source": [
    "print('v1=', v1,'v2=', v2)\n",
    "print('v1+v2=', v1 + v2)\n",
    "print('4*v2=', 4 * v2)\n",
    "print('-v1=', -v1)"
   ]
  },
  {
   "cell_type": "code",
   "execution_count": 21,
   "metadata": {},
   "outputs": [
    {
     "name": "stdout",
     "output_type": "stream",
     "text": [
      "Error, the two vectors have different dimensions.\n"
     ]
    }
   ],
   "source": [
    "#Two vectors can be summed only if they have the same dimension:\n",
    "try:\n",
    "    np.array([1,1]) + np.array([1,1,1])\n",
    "except:\n",
    "    print('Error, the two vectors have different dimensions.')"
   ]
  },
  {
   "cell_type": "markdown",
   "metadata": {},
   "source": [
    "## The inner product\n",
    "<p class=\"myp\">The <span style=\"text-decoration: underline\">inner product</span> or <span style=\"text-decoration: underline\">dot product</span> is an operation that takes as input two vectors of the same dimension, and outputs a number (a scalar). The mathematical notation for the dot product of the vectors $\\vec{a}$ and $\\vec{b}$ is $\\langle\\vec{a}, \\vec{b}\\rangle$.</p>"
   ]
  },
  {
   "cell_type": "code",
   "execution_count": 27,
   "metadata": {},
   "outputs": [
    {
     "name": "stdout",
     "output_type": "stream",
     "text": [
      "Three ways to calculate the dot product of  [1 2] , [-1  1] all give the same result:\n",
      "1\n",
      "1\n",
      "1\n"
     ]
    }
   ],
   "source": [
    "print(\"Three ways to calculate the dot product of \",\\\n",
    "      v1,\",\",v2,'all give the same result:')\n",
    "print(np.dot(v1,v2),)\n",
    "print(v1[0]*v2[0] + v1[1]*v2[1],)\n",
    "print(sum([v1[i]*v2[i] for i in range(len(v1))]) )"
   ]
  },
  {
   "cell_type": "markdown",
   "metadata": {},
   "source": [
    "## The norm of a vector"
   ]
  },
  {
   "cell_type": "code",
   "execution_count": 29,
   "metadata": {},
   "outputs": [
    {
     "name": "stdout",
     "output_type": "stream",
     "text": [
      "Two ways of calculating the norm of the vector [1 2]\n",
      "2.2360679775\n",
      "2.2360679775\n"
     ]
    }
   ],
   "source": [
    "print(\"Two ways of calculating the norm of the vector\",v1)\n",
    "print(np.sqrt(np.dot(v1,v1)),)\n",
    "print(norm(v1) )"
   ]
  },
  {
   "cell_type": "markdown",
   "metadata": {},
   "source": [
    "# Matrices $-$ Notation and Operations"
   ]
  },
  {
   "cell_type": "markdown",
   "metadata": {},
   "source": [
    "## Transposing a Matrix"
   ]
  },
  {
   "cell_type": "code",
   "execution_count": 44,
   "metadata": {},
   "outputs": [
    {
     "name": "stdout",
     "output_type": "stream",
     "text": [
      "B= \n",
      " [[0 1 2]\n",
      " [3 4 5]]\n",
      "The shape of B is:  (2, 3)\n",
      "B.T= \n",
      " [[0 3]\n",
      " [1 4]\n",
      " [2 5]]\n",
      "The shape of B.T is:  (3, 2)\n"
     ]
    }
   ],
   "source": [
    "B = np.array([[0, 1, 2], [3, 4, 5]])\n",
    "print('B= \\n', B)\n",
    "# The shape of B is: \n",
    "print('The shape of B is: ', B.shape)\n",
    "# The transpose of B is\n",
    "print('B.T= \\n', B.T)\n",
    "# The shape of B.T is: \n",
    "print('The shape of B.T is: ', B.T.shape)"
   ]
  },
  {
   "cell_type": "markdown",
   "metadata": {},
   "source": [
    "## Splitting a Matrix"
   ]
  },
  {
   "cell_type": "code",
   "execution_count": 46,
   "metadata": {},
   "outputs": [
    {
     "name": "stdout",
     "output_type": "stream",
     "text": [
      "A=\n",
      " [[0 1 2]\n",
      " [3 4 5]]\n"
     ]
    }
   ],
   "source": [
    "A = np.array(range(6)).reshape(2,3)\n",
    "print('A=\\n',A)"
   ]
  },
  {
   "cell_type": "code",
   "execution_count": 47,
   "metadata": {},
   "outputs": [
    {
     "name": "stdout",
     "output_type": "stream",
     "text": [
      "Splitting A into columns:\n",
      "column 0\n",
      "[[0]\n",
      " [3]]\n",
      "column 1\n",
      "[[1]\n",
      " [4]]\n",
      "column 2\n",
      "[[2]\n",
      " [5]]\n"
     ]
    }
   ],
   "source": [
    "print(\"Splitting A into columns:\")\n",
    "Columns = np.split(A, 3, axis=1)\n",
    "for i in range(len(Columns)):\n",
    "    print('column %d'%i)\n",
    "    print(Columns[i])"
   ]
  },
  {
   "cell_type": "code",
   "execution_count": 48,
   "metadata": {},
   "outputs": [
    {
     "name": "stdout",
     "output_type": "stream",
     "text": [
      "Reconstructing the matrix from the columns:\n",
      "[[0 1 2]\n",
      " [3 4 5]]\n",
      "Checking that the reconstruction is equal to the original:\n",
      "[[ True  True  True]\n",
      " [ True  True  True]]\n"
     ]
    }
   ],
   "source": [
    "A_recon = np.concatenate(Columns,axis=1)\n",
    "print('Reconstructing the matrix from the columns:')\n",
    "print(A_recon)\n",
    "print('Checking that the reconstruction is equal to the original:')\n",
    "print(A_recon == A)"
   ]
  },
  {
   "cell_type": "code",
   "execution_count": 49,
   "metadata": {},
   "outputs": [
    {
     "name": "stdout",
     "output_type": "stream",
     "text": [
      "Splitting A into rows:\n",
      "row 0\n",
      "[[0 1 2]]\n",
      "row 1\n",
      "[[3 4 5]]\n"
     ]
    }
   ],
   "source": [
    "print(\"Splitting A into rows:\")\n",
    "Rows = np.split(A,2,axis=0)\n",
    "\n",
    "for i in range(len(Rows)):\n",
    "    print('row %d'%i)\n",
    "    print(Rows[i])"
   ]
  },
  {
   "cell_type": "code",
   "execution_count": 50,
   "metadata": {},
   "outputs": [
    {
     "name": "stdout",
     "output_type": "stream",
     "text": [
      "Reconstructing the matrix from the rows:\n",
      "[[0 1 2]\n",
      " [3 4 5]]\n",
      "Checking that the reconstruction is equal to the original:\n",
      "[[ True  True  True]\n",
      " [ True  True  True]]\n"
     ]
    }
   ],
   "source": [
    "A_recon = np.concatenate(Rows,axis=0)\n",
    "\n",
    "print('Reconstructing the matrix from the rows:')\n",
    "print(A_recon)\n",
    "print('Checking that the reconstruction is equal to the original:')\n",
    "print(A_recon == A)"
   ]
  },
  {
   "cell_type": "markdown",
   "metadata": {},
   "source": [
    "# Numpy functions\n",
    "<p class=\"myp\">\n",
    "Beyond the commands <span class=\"keyword\">reshape</span>, <span class=\"keyword\">split</span> and <span class=\"keyword\">concatanate</span> numpy has a rich set of functions to manipulate arrays, for a complete list see [Numpy Array Manipulation routines](https://docs.scipy.org/doc/numpy/reference/routines.array-manipulation.html)</p>"
   ]
  },
  {
   "cell_type": "markdown",
   "metadata": {},
   "source": [
    "## Matrix - scalar operations\n",
    "<p class=\"myp\">\n",
    "You can add/subtract, multiply/divide a scalar from a matrix.</p>"
   ]
  },
  {
   "cell_type": "code",
   "execution_count": 51,
   "metadata": {},
   "outputs": [
    {
     "name": "stdout",
     "output_type": "stream",
     "text": [
      "A=\n",
      " [[0 1 2]\n",
      " [3 4 5]]\n",
      "A+3=3+A=\n",
      " [[3 4 5]\n",
      " [6 7 8]]\n",
      "A*3=\n",
      " [[ 0  3  6]\n",
      " [ 9 12 15]]\n",
      "A/2=\n",
      " [[ 0.   0.5  1. ]\n",
      " [ 1.5  2.   2.5]]\n",
      "A/2.=\n",
      " [[ 0.   0.5  1. ]\n",
      " [ 1.5  2.   2.5]]\n"
     ]
    }
   ],
   "source": [
    "# Some examples of matrix-scalar operations using numpy\n",
    "print('A=\\n',A)\n",
    "print('A+3=3+A=\\n',A+3)  # addition\n",
    "\n",
    "print('A*3=\\n',A*3)  # product\n",
    "\n",
    "print('A/2=\\n',A/2)  # integer division\n",
    "print('A/2.=\\n',A/2)  # floating point division"
   ]
  },
  {
   "cell_type": "markdown",
   "metadata": {},
   "source": [
    "## Matrix-Vector, Matrix-Matrix operations"
   ]
  },
  {
   "cell_type": "code",
   "execution_count": 59,
   "metadata": {},
   "outputs": [
    {
     "name": "stdout",
     "output_type": "stream",
     "text": [
      "A= \n",
      " [[0 1]\n",
      " [2 3]\n",
      " [4 5]]\n",
      "c= \n",
      " [[-1]\n",
      " [ 1]]\n",
      "The shape of A:  (3, 2)\n",
      "The shape of c:  (2, 1)\n",
      "Ac= \n",
      " [[1]\n",
      " [1]\n",
      " [1]]\n"
     ]
    }
   ],
   "source": [
    "# Matrix - Vector product\n",
    "A = np.arange(6).reshape((3,2))\n",
    "c = np.array([-1,1]).reshape((2,1))\n",
    "print('A= \\n', A)\n",
    "print('c= \\n', c)\n",
    "print('The shape of A: ', A.shape)\n",
    "print('The shape of c: ', c.shape)\n",
    "print('Ac= \\n', np.dot(A,c))"
   ]
  },
  {
   "cell_type": "code",
   "execution_count": 60,
   "metadata": {},
   "outputs": [
    {
     "name": "stdout",
     "output_type": "stream",
     "text": [
      "A=\n",
      " [[0 1]\n",
      " [2 3]\n",
      " [4 5]]\n",
      "C=\n",
      " [[-0.29602509 -0.16302383]\n",
      " [-0.81047422 -0.78499683]]\n",
      "AC=\n",
      " [[-0.81047422 -0.78499683]\n",
      " [-3.02347284 -2.68103815]\n",
      " [-5.23647146 -4.57707946]]\n"
     ]
    }
   ],
   "source": [
    "# Matrix - Matrix product\n",
    "\n",
    "# Define the matrices A and C\n",
    "A = np.arange(6).reshape((3,2))\n",
    "C = np.random.randn(2,2)\n",
    "\n",
    "print('A=\\n',A)\n",
    "print('C=\\n',C)\n",
    "print('AC=\\n',np.dot(A,C))"
   ]
  },
  {
   "cell_type": "markdown",
   "metadata": {},
   "source": [
    "## Inverting a Matrix"
   ]
  },
  {
   "cell_type": "code",
   "execution_count": 61,
   "metadata": {},
   "outputs": [
    {
     "name": "stdout",
     "output_type": "stream",
     "text": [
      "C=\n",
      " [[-0.3353974   1.34981233]\n",
      " [-0.8408298   0.99777036]]\n",
      "Inverse of C =\n",
      " [[ 1.24672541 -1.68660585]\n",
      " [ 1.0506264  -0.41908286]]\n"
     ]
    }
   ],
   "source": [
    "# An example of computing the inverse using numpy.linalg.inv\n",
    "# note, we need a square matrix (# rows = # cols), use C:\n",
    "C = np.random.randn(2,2)\n",
    "print(\"C=\\n\",C)\n",
    "C_inverse = np.linalg.inv(C)\n",
    "print(\"Inverse of C =\\n\",C_inverse)"
   ]
  },
  {
   "cell_type": "code",
   "execution_count": 65,
   "metadata": {},
   "outputs": [
    {
     "name": "stdout",
     "output_type": "stream",
     "text": [
      "Identity matrix=\n",
      " [[ 1.  0.]\n",
      " [ 0.  1.]]\n",
      "C x C_inverse - I=\n",
      " [[  0.00000000e+00   0.00000000e+00]\n",
      " [  0.00000000e+00  -1.11022302e-16]]\n",
      "C_inverse x C - I=\n",
      " [[  0.00000000e+00   2.22044605e-16]\n",
      " [  0.00000000e+00  -1.11022302e-16]]\n"
     ]
    }
   ],
   "source": [
    "I = np.eye(2)\n",
    "print(\"Identity matrix=\\n\", I)\n",
    "print(\"C x C_inverse - I=\\n\", np.dot(C, C_inverse)-I)\n",
    "print(\"C_inverse x C - I=\\n\", np.dot(C_inverse, C)-I)"
   ]
  },
  {
   "cell_type": "code",
   "execution_count": 66,
   "metadata": {},
   "outputs": [
    {
     "name": "stdout",
     "output_type": "stream",
     "text": [
      "C=\n",
      " [[1 0]\n",
      " [1 0]]\n",
      "C cannot be inverted: it is a singular matrix\n"
     ]
    }
   ],
   "source": [
    "C = np.array([[1,0],[1,0]])\n",
    "print(\"C=\\n\",C)\n",
    "try:\n",
    "    C_inverse = np.linalg.inv(C)\n",
    "except: \n",
    "    print('C cannot be inverted: it is a singular matrix')"
   ]
  },
  {
   "cell_type": "markdown",
   "metadata": {},
   "source": [
    "# Solving a system of linear equations"
   ]
  },
  {
   "cell_type": "markdown",
   "metadata": {},
   "source": [
    "## Example\n",
    "<div class=\"exercises\">\n",
    "Find the solution for the following set of 3 equations:\n",
    "$$\n",
    "x+y-z=5 \\\\\n",
    "z+2y=3 \\\\\n",
    "y-x=4\n",
    "$$\n",
    "</div>"
   ]
  },
  {
   "cell_type": "code",
   "execution_count": 74,
   "metadata": {},
   "outputs": [
    {
     "name": "stdout",
     "output_type": "stream",
     "text": [
      "x = -1.0  y = 3.0  z= -3.0\n"
     ]
    }
   ],
   "source": [
    "# Solution\n",
    "A = np.array([[1,1,-1],[0,2,1],[-1,1,0]])\n",
    "b = np.array([5,3,4])\n",
    "v = np.linalg.solve(A, b)\n",
    "x = v[0]\n",
    "y = v[1] \n",
    "z = v[2]\n",
    "print('x =', x, ' y =', y, ' z=', z)"
   ]
  },
  {
   "cell_type": "markdown",
   "metadata": {},
   "source": [
    "<p class=\"myp\">Check that the solution is correct:</p>"
   ]
  },
  {
   "cell_type": "code",
   "execution_count": 75,
   "metadata": {},
   "outputs": [
    {
     "data": {
      "text/plain": [
       "True"
      ]
     },
     "execution_count": 75,
     "metadata": {},
     "output_type": "execute_result"
    }
   ],
   "source": [
    "np.allclose(np.dot(A, v), b)"
   ]
  },
  {
   "cell_type": "code",
   "execution_count": 2,
   "metadata": {},
   "outputs": [
    {
     "data": {
      "text/html": [
       "<style>\n",
       ".output_subarea {\n",
       "    background-color: cornsilk;\n",
       "    border: 1px solid forestgreen;\n",
       "}\n",
       "\n",
       ".CodeMirror-lines {\n",
       "    background-color: LightYellow;\n",
       "    border-width: 1px;\n",
       "    border-style: dashed;\n",
       "    border-color: black;\n",
       "}\n",
       "\n",
       ".CodeMirror-linenumber.CodeMirror-gutter-elt {\n",
       "    color: red;\n",
       "}\n",
       "\n",
       "div {\n",
       "    line-height: 1.5;\n",
       "}\n",
       "\n",
       "div.h1 {\n",
       "    font-family: Arial;\n",
       "    font-size: 2em;\n",
       "    font-weight: bold;\n",
       "}\n",
       "\n",
       "div.exercises {\n",
       "    text-align: left; \n",
       "    font-family: 'Times New Roman'; \n",
       "    font-size:1.5em; \n",
       "    font-weight:bold;\n",
       "    border: 1px solid red;\n",
       "    padding: 7px 3px 7px 8px;\n",
       "    background-color: whitesmoke;\n",
       "}\n",
       "\n",
       "div.solution {\n",
       "    font-size: 125%;\n",
       "    background-color: cornsilk;\n",
       "    border: 1px solid forestgreen;\n",
       "    font-weight: bold;\n",
       "}\n",
       "\n",
       "ol {    \n",
       "    padding: 15px;\n",
       "}\n",
       "\n",
       "ol li {\n",
       "    padding: 5px;\n",
       "    margin-left: 25px;\n",
       "}\n",
       "\n",
       "ol ol li { \n",
       "    list-style-type: lower-alpha;\n",
       "}\n",
       "\n",
       ".myp {\n",
       "    font-family: 'Times New Roman'; \n",
       "    font-size:1.4em; \n",
       "    font-weight:bold;\n",
       "    border: 1px solid black;\n",
       "    padding: 5px 3px 5px 5px;\n",
       "    background-color: PaleTurquoise ;\n",
       "}\n",
       "\n",
       ".keyword {\n",
       "    background-color: LemonChiffon;\n",
       "    padding: 2px;\n",
       "    font-family: Arial, Helvetica, sans-serif;\n",
       "    letter-spacing: 1px;\n",
       "    font-size: 0.8em;\n",
       "    border-bottom-width: 1px;\n",
       "    border-bottom-style: dashed;\n",
       "    border-bottom-color: green;\n",
       "}\n",
       "</style>"
      ],
      "text/plain": [
       "<IPython.core.display.HTML object>"
      ]
     },
     "metadata": {},
     "output_type": "display_data"
    }
   ],
   "source": [
    "%%html\n",
    "<style>\n",
    ".output_subarea {\n",
    "    background-color: cornsilk;\n",
    "    border: 1px solid forestgreen;\n",
    "}\n",
    "\n",
    ".CodeMirror-lines {\n",
    "    background-color: LightYellow;\n",
    "    border-width: 1px;\n",
    "    border-style: dashed;\n",
    "    border-color: black;\n",
    "}\n",
    "\n",
    ".CodeMirror-linenumber.CodeMirror-gutter-elt {\n",
    "    color: red;\n",
    "}\n",
    "\n",
    "div {\n",
    "    line-height: 1.5;\n",
    "}\n",
    "\n",
    "div.h1 {\n",
    "    font-family: Arial;\n",
    "    font-size: 2em;\n",
    "    font-weight: bold;\n",
    "}\n",
    "\n",
    "div.exercises {\n",
    "    text-align: left; \n",
    "    font-family: 'Times New Roman'; \n",
    "    font-size:1.5em; \n",
    "    font-weight:bold;\n",
    "    border: 1px solid red;\n",
    "    padding: 7px 3px 7px 8px;\n",
    "    background-color: whitesmoke;\n",
    "}\n",
    "\n",
    "div.solution {\n",
    "    font-size: 125%;\n",
    "    background-color: cornsilk;\n",
    "    border: 1px solid forestgreen;\n",
    "    font-weight: bold;\n",
    "}\n",
    "\n",
    "ol {    \n",
    "    padding: 15px;\n",
    "}\n",
    "\n",
    "ol li {\n",
    "    padding: 5px;\n",
    "    margin-left: 25px;\n",
    "}\n",
    "\n",
    "ol ol li { \n",
    "    list-style-type: lower-alpha;\n",
    "}\n",
    "\n",
    ".myp {\n",
    "    font-family: 'Times New Roman'; \n",
    "    font-size:1.4em; \n",
    "    font-weight:bold;\n",
    "    border: 1px solid black;\n",
    "    padding: 5px 3px 5px 5px;\n",
    "    background-color: PaleTurquoise ;\n",
    "}\n",
    "\n",
    ".keyword {\n",
    "    background-color: LemonChiffon;\n",
    "    padding: 2px;\n",
    "    font-family: Arial, Helvetica, sans-serif;\n",
    "    letter-spacing: 1px;\n",
    "    font-size: 0.8em;\n",
    "    border-bottom-width: 1px;\n",
    "    border-bottom-style: dashed;\n",
    "    border-bottom-color: green;\n",
    "}\n",
    "</style>"
   ]
  },
  {
   "cell_type": "code",
   "execution_count": 2,
   "metadata": {},
   "outputs": [
    {
     "data": {
      "text/html": [
       "<script src=\"https://cdn.rawgit.com/parente/4c3e6936d0d7a46fd071/raw/65b816fb9bdd3c28b4ddf3af602bfd6015486383/code_toggle.js\"></script>"
      ],
      "text/plain": [
       "<IPython.core.display.HTML object>"
      ]
     },
     "metadata": {},
     "output_type": "display_data"
    }
   ],
   "source": [
    "%%html\n",
    "<script src=\"https://cdn.rawgit.com/parente/4c3e6936d0d7a46fd071/raw/65b816fb9bdd3c28b4ddf3af602bfd6015486383/code_toggle.js\"></script>"
   ]
  }
 ],
 "metadata": {
  "kernelspec": {
   "display_name": "Python 3",
   "language": "python",
   "name": "python3"
  },
  "language_info": {
   "codemirror_mode": {
    "name": "ipython",
    "version": 3
   },
   "file_extension": ".py",
   "mimetype": "text/x-python",
   "name": "python",
   "nbconvert_exporter": "python",
   "pygments_lexer": "ipython3",
   "version": "3.6.2"
  },
  "latex_envs": {
   "LaTeX_envs_menu_present": true,
   "autocomplete": true,
   "bibliofile": "biblio.bib",
   "cite_by": "apalike",
   "current_citInitial": 1,
   "eqLabelWithNumbers": true,
   "eqNumInitial": 1,
   "hotkeys": {
    "equation": "Ctrl-E",
    "itemize": "Ctrl-I"
   },
   "labels_anchors": false,
   "latex_user_defs": false,
   "report_style_numbering": false,
   "user_envs_cfg": false
  },
  "toc": {
   "colors": {
    "hover_highlight": "#DAA520",
    "navigate_num": "#0000ff",
    "navigate_text": "#0000ff",
    "running_highlight": "#FF0000",
    "selected_highlight": "#FFD700",
    "sidebar_border": "#EEEEEE",
    "wrapper_background": "#FFFFFF"
   },
   "moveMenuLeft": true,
   "nav_menu": {
    "height": "50px",
    "width": "292px"
   },
   "navigate_menu": true,
   "number_sections": true,
   "sideBar": true,
   "threshold": 4,
   "toc_cell": true,
   "toc_section_display": "block",
   "toc_window_display": false,
   "widenNotebook": false
  }
 },
 "nbformat": 4,
 "nbformat_minor": 2
}
