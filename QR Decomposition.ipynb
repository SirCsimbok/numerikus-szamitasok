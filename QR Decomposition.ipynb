{
 "cells": [
  {
   "cell_type": "markdown",
   "metadata": {},
   "source": [
    "<div class=\"h1\">QR decomposition of matrices</div>\n",
    "<p class=\"author\">(Szabó Sándor)</p>\n",
    "<p class=\"date\">2018. április</p>"
   ]
  },
  {
   "cell_type": "markdown",
   "metadata": {},
   "source": [
    "<p class=\"abstract\">Abstract</p>\n",
    "<p class=\"normal\">We investigate the $QR$ decomposition of a matrix, its realization in Python and some applications.</p><br />"
   ]
  },
  {
   "cell_type": "markdown",
   "metadata": {
    "toc": "true"
   },
   "source": [
    "# Table of Contents\n",
    " <p><div class=\"lev1 toc-item\"><a href=\"#Definitions\" data-toc-modified-id=\"Definitions-1\"><span class=\"toc-item-num\">1&nbsp;&nbsp;</span>Definitions</a></div><div class=\"lev1 toc-item\"><a href=\"#Theorems\" data-toc-modified-id=\"Theorems-2\"><span class=\"toc-item-num\">2&nbsp;&nbsp;</span>Theorems</a></div><div class=\"lev1 toc-item\"><a href=\"#Proof-of-Theorems-1-and-2\" data-toc-modified-id=\"Proof-of-Theorems-1-and-2-3\"><span class=\"toc-item-num\">3&nbsp;&nbsp;</span>Proof of Theorems 1 and 2</a></div><div class=\"lev1 toc-item\"><a href=\"#QR-factorization-algorithms\" data-toc-modified-id=\"QR-factorization-algorithms-4\"><span class=\"toc-item-num\">4&nbsp;&nbsp;</span>QR-factorization algorithms</a></div><div class=\"lev2 toc-item\"><a href=\"#Gram-Schmidt-orthogonalization\" data-toc-modified-id=\"Gram-Schmidt-orthogonalization-41\"><span class=\"toc-item-num\">4.1&nbsp;&nbsp;</span>Gram-Schmidt orthogonalization</a></div><div class=\"lev2 toc-item\"><a href=\"#Givens-rotations\" data-toc-modified-id=\"Givens-rotations-42\"><span class=\"toc-item-num\">4.2&nbsp;&nbsp;</span>Givens rotations</a></div><div class=\"lev2 toc-item\"><a href=\"#Householder-reflections\" data-toc-modified-id=\"Householder-reflections-43\"><span class=\"toc-item-num\">4.3&nbsp;&nbsp;</span>Householder reflections</a></div><div class=\"lev1 toc-item\"><a href=\"#Realization-in-Python\" data-toc-modified-id=\"Realization-in-Python-5\"><span class=\"toc-item-num\">5&nbsp;&nbsp;</span>Realization in Python</a></div><div class=\"lev1 toc-item\"><a href=\"#Applications\" data-toc-modified-id=\"Applications-6\"><span class=\"toc-item-num\">6&nbsp;&nbsp;</span>Applications</a></div><div class=\"lev2 toc-item\"><a href=\"#Calculation-of-determinant\" data-toc-modified-id=\"Calculation-of-determinant-61\"><span class=\"toc-item-num\">6.1&nbsp;&nbsp;</span>Calculation of determinant</a></div><div class=\"lev2 toc-item\"><a href=\"#Least-Square-solution-of-linear-system\" data-toc-modified-id=\"Least-Square-solution-of-linear-system-62\"><span class=\"toc-item-num\">6.2&nbsp;&nbsp;</span>Least Square solution of linear system</a></div><div class=\"lev1 toc-item\"><a href=\"#Bibliography\" data-toc-modified-id=\"Bibliography-7\"><span class=\"toc-item-num\">7&nbsp;&nbsp;</span>Bibliography</a></div>"
   ]
  },
  {
   "cell_type": "markdown",
   "metadata": {},
   "source": [
    "# Definitions "
   ]
  },
  {
   "cell_type": "markdown",
   "metadata": {
    "collapsed": true
   },
   "source": [
    "<div class=\"definition\"> \n",
    "<p class=\"normal\">Definition 1. In linear algebra a $QR$ decomposition of a matrix is a decomposition of a matrix $A$ into a product $A=QR$ of an orthogonal matrix $Q$ and an upper triangular matrix $R$.</p>\n",
    "</div>"
   ]
  },
  {
   "cell_type": "markdown",
   "metadata": {
    "collapsed": true
   },
   "source": [
    "# Theorems"
   ]
  },
  {
   "cell_type": "markdown",
   "metadata": {
    "collapsed": true
   },
   "source": [
    "<div class=\"theorem\">\n",
    "<p class=\"normal\">Theorem 1. If $A\\in\\mathcal{M}_n$ is an invertable matrix, then there exists a unique pair of orthogonal matrix $Q\\in\\mathcal{M}_n$ and upper triangular matrix $R\\in\\mathcal{M}_n$ with positive diagonal entries such that \n",
    "$$\n",
    "A=QR.\n",
    "$$\n",
    "</p>\n",
    "</div>"
   ]
  },
  {
   "cell_type": "markdown",
   "metadata": {},
   "source": [
    "<div class=\"theorem\">\n",
    "<p class=\"normal\">Theorem 2. If $A\\in\\mathcal{M}_{m\\times n}$, $m\\geq n$, then there exists a matrix $Q\\in\\mathcal{M}_{m\\times n}$ with orthonormal columns and an upper triangular matrix $R\\in\\mathcal{M}_n$ such that\n",
    "$$\n",
    "A=QR.\n",
    "$$\n",
    "</p>\n",
    "</div>"
   ]
  },
  {
   "cell_type": "markdown",
   "metadata": {},
   "source": [
    "# Proof of Theorems 1 and 2"
   ]
  },
  {
   "cell_type": "markdown",
   "metadata": {
    "collapsed": true
   },
   "source": [
    "<div class=\"proof\">\n",
    "<p class=\"normal\">Proof. <br />\n",
    "Uniqueness: Suppose that $A=Q_1R_1=Q_2R_2$, where $Q_1,Q_2$ are orthogonal and $R_1,R_2$\n",
    "are upper triangular with positive diagonal entries. Then\n",
    "$$\n",
    "M:=R_1R_2^{\\,-1}=Q_1^*Q_2.\n",
    "$$\n",
    "Since $M$ is upper triangular and orthogonal, it must be diagonal. \n",
    "The diagonal entries of $M$ are positive (because the upper triangular matrices $R_1$ and $R_2^{\\,-1}$ \n",
    "have positive diagonal entries) and of modulus one. Hence $M=I$, and consequently \n",
    "$$\n",
    "R_1=R_2, \\,\\,\\, Q_1=Q_2.\n",
    "$$\n",
    "Existence: (later)\n",
    "</p>\n",
    "</div>"
   ]
  },
  {
   "cell_type": "markdown",
   "metadata": {
    "collapsed": true
   },
   "source": [
    "# QR-factorization algorithms"
   ]
  },
  {
   "cell_type": "markdown",
   "metadata": {},
   "source": [
    "## Gram-Schmidt orthogonalization"
   ]
  },
  {
   "cell_type": "code",
   "execution_count": 3,
   "metadata": {},
   "outputs": [
    {
     "data": {
      "text/html": [
       "<iframe \n",
       "width=\"600\" height=\"365\" \n",
       "src=\"https://www.youtube.com/embed/jiKSNKPwBS0\" \n",
       "frameborder=\"0\" allow=\"autoplay; encrypted-media\" \n",
       "allowfullscreen>\n",
       "</iframe>"
      ],
      "text/plain": [
       "<IPython.core.display.HTML object>"
      ]
     },
     "metadata": {},
     "output_type": "display_data"
    }
   ],
   "source": [
    "%%html\n",
    "<iframe \n",
    "width=\"600\" height=\"365\" \n",
    "src=\"https://www.youtube.com/embed/jiKSNKPwBS0\" \n",
    "frameborder=\"0\" allow=\"autoplay; encrypted-media\" \n",
    "allowfullscreen>\n",
    "</iframe>"
   ]
  },
  {
   "cell_type": "code",
   "execution_count": 6,
   "metadata": {},
   "outputs": [
    {
     "data": {
      "image/jpeg": "[encoded data removed]",
      "text/html": [
       "\n",
       "        <iframe\n",
       "            width=\"400\"\n",
       "            height=\"300\"\n",
       "            src=\"https://www.youtube.com/embed/jiKSNKPwBS0\"\n",
       "            frameborder=\"0\"\n",
       "            allowfullscreen\n",
       "        ></iframe>\n",
       "        "
      ],
      "text/plain": [
       "<IPython.lib.display.YouTubeVideo at 0x208d599a7f0>"
      ]
     },
     "execution_count": 6,
     "metadata": {},
     "output_type": "execute_result"
    }
   ],
   "source": [
    "from IPython.lib.display import YouTubeVideo\n",
    "YouTubeVideo('jiKSNKPwBS0')"
   ]
  },
  {
   "cell_type": "code",
   "execution_count": 12,
   "metadata": {},
   "outputs": [
    {
     "data": {
      "text/html": [
       "<iframe width=\"600\" height=\"365\" src=\"https://www.youtube.com/embed/jiKSNKPwBS0\" frameborder=\"0\" allow=\"autoplay; encrypted-media\" allowfullscreen></iframe>"
      ],
      "text/plain": [
       "<IPython.core.display.HTML object>"
      ]
     },
     "execution_count": 12,
     "metadata": {},
     "output_type": "execute_result"
    }
   ],
   "source": [
    "from IPython.display import HTML\n",
    "# Youtube\n",
    "HTML('<iframe width=\"600\" height=\"365\" src=\"https://www.youtube.com/embed/jiKSNKPwBS0\" frameborder=\"0\" allow=\"autoplay; encrypted-media\" allowfullscreen></iframe>')"
   ]
  },
  {
   "cell_type": "code",
   "execution_count": null,
   "metadata": {
    "collapsed": true
   },
   "outputs": [],
   "source": []
  },
  {
   "cell_type": "markdown",
   "metadata": {
    "collapsed": true
   },
   "source": [
    "## Givens rotations"
   ]
  },
  {
   "cell_type": "code",
   "execution_count": null,
   "metadata": {
    "collapsed": true
   },
   "outputs": [],
   "source": []
  },
  {
   "cell_type": "markdown",
   "metadata": {
    "collapsed": true
   },
   "source": [
    "## Householder reflections"
   ]
  },
  {
   "cell_type": "code",
   "execution_count": null,
   "metadata": {
    "collapsed": true
   },
   "outputs": [],
   "source": []
  },
  {
   "cell_type": "markdown",
   "metadata": {},
   "source": [
    "# Realization in Python"
   ]
  },
  {
   "cell_type": "code",
   "execution_count": 1,
   "metadata": {
    "collapsed": true
   },
   "outputs": [],
   "source": [
    "%matplotlib inline"
   ]
  },
  {
   "cell_type": "code",
   "execution_count": 25,
   "metadata": {
    "collapsed": true
   },
   "outputs": [],
   "source": [
    "import matplotlib.pyplot as plt\n",
    "import numpy as np\n",
    "from numpy.linalg import qr\n",
    "import sympy as sp\n",
    "from sympy import *"
   ]
  },
  {
   "cell_type": "code",
   "execution_count": 26,
   "metadata": {
    "collapsed": true
   },
   "outputs": [],
   "source": [
    "from IPython.display import HTML,Latex, display\n",
    "init_printing(use_unicode=True) # nice output"
   ]
  },
  {
   "cell_type": "code",
   "execution_count": 47,
   "metadata": {},
   "outputs": [
    {
     "name": "stdout",
     "output_type": "stream",
     "text": [
      "A= \n",
      " [[ 12 -51   4]\n",
      " [  6 167 -68]\n",
      " [ -4  24 -41]]\n"
     ]
    }
   ],
   "source": [
    "A = np.array([[12, -51, 4], [6, 167, -68], [-4, 24, -41]])\n",
    "print('A= \\n', A)"
   ]
  },
  {
   "cell_type": "code",
   "execution_count": 45,
   "metadata": {},
   "outputs": [
    {
     "name": "stdout",
     "output_type": "stream",
     "text": [
      "Q= \n",
      " [[-0.85714286  0.39428571  0.33142857]\n",
      " [-0.42857143 -0.90285714 -0.03428571]\n",
      " [ 0.28571429 -0.17142857  0.94285714]]\n",
      "R= \n",
      " [[ -14.  -21.   14.]\n",
      " [   0. -175.   70.]\n",
      " [   0.    0.  -35.]]\n",
      "A-QR= \n",
      " [[  0.00000000e+00   1.42108547e-14  -1.77635684e-15]\n",
      " [  0.00000000e+00  -2.84217094e-14   1.42108547e-14]\n",
      " [  8.88178420e-16   0.00000000e+00   0.00000000e+00]]\n",
      "max error=  2.84217094304e-14\n"
     ]
    }
   ],
   "source": [
    "Q, R = qr(A, 'complete')\n",
    "print('Q= \\n', Q)\n",
    "print('R= \\n', R)\n",
    "err = A - np.dot(Q, R)\n",
    "print('A-QR= \\n', err)\n",
    "max_err = np.max(np.abs(err))\n",
    "print('max error= ', max_err)"
   ]
  },
  {
   "cell_type": "markdown",
   "metadata": {},
   "source": [
    "# Applications"
   ]
  },
  {
   "cell_type": "markdown",
   "metadata": {},
   "source": [
    "## Calculation of determinant"
   ]
  },
  {
   "cell_type": "markdown",
   "metadata": {},
   "source": [
    "<p class=\"normal\">\n",
    "If $A=QR$ then\n",
    "\\begin{align*}\n",
    "\\det(A) &=\\det(Q)\\det(R) \\\\\n",
    "        &=\\det(R) \\\\\n",
    "        &=\\prod_{i}r_{ii}\n",
    "\\end{align*}\n",
    "</p>"
   ]
  },
  {
   "cell_type": "markdown",
   "metadata": {},
   "source": [
    "<div class=\"definition\"> \n",
    "<p class=\"normal\">Definition 1. In linear algebra a $QR$ decomposition of a matrix is a decomposition of a matrix $A$ into a product $A=QR$ of an orthogonal matrix $Q$ and an upper triangular matrix $R$.</p>\n",
    "</div>"
   ]
  },
  {
   "cell_type": "markdown",
   "metadata": {},
   "source": [
    "## Least Square solution of linear system"
   ]
  },
  {
   "cell_type": "markdown",
   "metadata": {},
   "source": [
    "<p class=\"normal\">\n",
    "Many times the linear system \n",
    "$$\n",
    "A\\boldsymbol{x}=\\boldsymbol{b}\n",
    "$$\n",
    "has no solution. In this case we may want to minimize the distance $\\boldsymbol{r}$ between $A\\boldsymbol{x}$ and $\\boldsymbol{b}$. If we use euclidean distance \n",
    "we can write\n",
    "\\begin{align*}\n",
    "\\Vert \\boldsymbol{r} \\Vert^2 &=\\Vert \\boldsymbol{b}-A\\boldsymbol{x}\\Vert^2 \\\\\n",
    "&=\\Vert \\boldsymbol{b}-QR\\boldsymbol{x}\\Vert^2 \\\\\n",
    "&=\\Vert Q^*\\boldsymbol{b}-(Q^*Q)R\\boldsymbol{x}\\Vert^2 \\,\\,\\, \\text{because }Q\\text{ is orthogonal}  \\\\\n",
    "&=\\Vert Q^*\\boldsymbol{b}-R\\boldsymbol{x}\\Vert^2    \n",
    "\\,\\,\\,\\text{because }Q^*Q=I  \\\\\n",
    "&=\\Vert \\boldsymbol{c}-R\\boldsymbol{x}\\Vert^2\n",
    "\\,\\,\\,\\text{where } \\boldsymbol{c}=Q^*\\boldsymbol{b}=\n",
    "\\left[\n",
    "\\begin{array}{rr}\n",
    "    \\boldsymbol{c}_1  \\\\\n",
    "    \\boldsymbol{c}_2  \n",
    "\\end{array}\n",
    "\\right] \\\\\n",
    "&=\\Vert \\boldsymbol{c}_1-R\\boldsymbol{x}\\Vert^2\n",
    "+\\Vert \\boldsymbol{c}_2\\Vert^2 \\\\\n",
    "&=\\Vert \\boldsymbol{c}_2\\Vert^2\\,\\,\\,\\text{if we choose }\\boldsymbol{x} \\text{ such that }R\\boldsymbol{x}=\\boldsymbol{c}_1.\n",
    "\\end{align*}\n",
    "</p>"
   ]
  },
  {
   "cell_type": "markdown",
   "metadata": {},
   "source": [
    "# Bibliography"
   ]
  },
  {
   "cell_type": "markdown",
   "metadata": {},
   "source": [
    "<p class=\"normal\">\n",
    "[1] Wikipedia, QR decomposition. \n",
    "<a href=\"https://en.wikipedia.org/wiki/QR_decomposition\">Homepage</a>\n",
    "</p>"
   ]
  },
  {
   "cell_type": "code",
   "execution_count": 16,
   "metadata": {},
   "outputs": [
    {
     "data": {
      "text/html": [
       "<style>div.h1 {\n",
       "    font-family: Arial, Helvetica, sans-serif;\n",
       "    font-size: 2em;\n",
       "    font-weight: bold;\n",
       "}\n",
       "\n",
       "p.author {\n",
       "    font-family: 'Times New Roman', Times, serif;\n",
       "    font-size: 1.2em;\n",
       "    text-align: justify;\n",
       "    line-height: normal;\n",
       "}\n",
       "\n",
       "p.date {\n",
       "    font-family: 'Times New Roman', Times, serif;\n",
       "    font-size: 1em;\n",
       "    text-align: justify;\n",
       "}\n",
       "\n",
       "p.abstract {\n",
       "    font-family: 'Times New Roman', Times, serif;\n",
       "    font-size: 1.5em;\n",
       "    text-align: left;\n",
       "    line-height: 1.4;\n",
       "}\n",
       "\n",
       "p.normal {\n",
       "    font-family: 'Times New Roman', Times, serif;\n",
       "    font-size: 1.3em;\n",
       "    text-align: justify;\n",
       "    line-height: 1.2;\n",
       "}\n",
       "\n",
       "p.normal-indent {\n",
       "    font-family: 'Times New Roman', Times, serif;\n",
       "    font-size: 1.3em;\n",
       "    text-align: justify;\n",
       "    line-height: 1.2;\n",
       "    text-indent: 0.5em;\n",
       "}\n",
       "\n",
       ".definition {\n",
       "    font-size: 1.1em;\n",
       "    text-align: left;\n",
       "    border-left-color: blue;\n",
       "    border-left-style: solid;\n",
       "    border-left-width: 0.3em;\n",
       "    padding-left: 0.6em;\n",
       "}\n",
       "\n",
       ".theorem {\n",
       "    font-size: 1.1em;\n",
       "    text-align: left;\n",
       "    border-left-color: rgb(255, 47, 0);\n",
       "    border-left-style: solid;\n",
       "    border-left-width: 0.3em;\n",
       "    padding-left: 0.6em;\n",
       "    font-style: italic;\n",
       "}\n",
       "\n",
       ".proof {\n",
       "    font-size: 1.1em;\n",
       "    text-align: left;\n",
       "    border-left-color: rgb(19, 114, 27);\n",
       "    border-left-style: solid;\n",
       "    border-left-width: 0.3em;\n",
       "    padding-left: 0.6em;\n",
       "}</style>"
      ],
      "text/plain": [
       "<IPython.core.display.HTML object>"
      ]
     },
     "execution_count": 16,
     "metadata": {},
     "output_type": "execute_result"
    }
   ],
   "source": [
    "from IPython.core.display import HTML\n",
    "def css_styling():\n",
    "    styles = open(\"HomeWorks/css/hw.css\", \"r\").read()\n",
    "    return HTML(\"<style>\"+styles+\"</style>\")\n",
    "css_styling()"
   ]
  },
  {
   "cell_type": "code",
   "execution_count": null,
   "metadata": {
    "collapsed": true
   },
   "outputs": [],
   "source": [
    "from IPython.display import HTML\n",
    "import urllib2\n",
    "HTML(urllib2.urlopen('https://github.com/wesszabo/numerikus-szamitasok/blob/master/HomeWorks/css/hw.css').read())"
   ]
  },
  {
   "cell_type": "code",
   "execution_count": 15,
   "metadata": {},
   "outputs": [
    {
     "data": {
      "text/html": [
       "<script src=\"https://cdn.rawgit.com/parente/4c3e6936d0d7a46fd071/raw/65b816fb9bdd3c28b4ddf3af602bfd6015486383/code_toggle.js\"></script>"
      ],
      "text/plain": [
       "<IPython.core.display.HTML object>"
      ]
     },
     "metadata": {},
     "output_type": "display_data"
    }
   ],
   "source": [
    "%%html\n",
    "<script src=\"https://cdn.rawgit.com/parente/4c3e6936d0d7a46fd071/raw/65b816fb9bdd3c28b4ddf3af602bfd6015486383/code_toggle.js\"></script>"
   ]
  },
  {
   "cell_type": "code",
   "execution_count": null,
   "metadata": {
    "collapsed": true
   },
   "outputs": [],
   "source": []
  }
 ],
 "metadata": {
  "kernelspec": {
   "display_name": "Python 3",
   "language": "python",
   "name": "python3"
  },
  "language_info": {
   "codemirror_mode": {
    "name": "ipython",
    "version": 3
   },
   "file_extension": ".py",
   "mimetype": "text/x-python",
   "name": "python",
   "nbconvert_exporter": "python",
   "pygments_lexer": "ipython3",
   "version": "3.6.2"
  },
  "latex_envs": {
   "LaTeX_envs_menu_present": true,
   "autocomplete": true,
   "bibliofile": "biblio.bib",
   "cite_by": "apalike",
   "current_citInitial": 1,
   "eqLabelWithNumbers": true,
   "eqNumInitial": 1,
   "hotkeys": {
    "equation": "Ctrl-E",
    "itemize": "Ctrl-I"
   },
   "labels_anchors": false,
   "latex_user_defs": false,
   "report_style_numbering": false,
   "user_envs_cfg": false
  },
  "toc": {
   "colors": {
    "hover_highlight": "#DAA520",
    "navigate_num": "#0000ff",
    "navigate_text": "#0000ff",
    "running_highlight": "#FF0000",
    "selected_highlight": "#FFD700",
    "sidebar_border": "#EEEEEE",
    "wrapper_background": "#FFFFFF"
   },
   "moveMenuLeft": true,
   "nav_menu": {
    "height": "12px",
    "width": "252px"
   },
   "navigate_menu": true,
   "number_sections": true,
   "sideBar": true,
   "threshold": 4,
   "toc_cell": true,
   "toc_section_display": "block",
   "toc_window_display": false,
   "widenNotebook": false
  }
 },
 "nbformat": 4,
 "nbformat_minor": 2
}
