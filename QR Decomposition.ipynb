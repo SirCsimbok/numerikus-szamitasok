{
 "cells": [
  {
   "cell_type": "markdown",
   "metadata": {},
   "source": [
    "<div class=\"h1\">QR decomposition of matrices</div>\n",
    "<p class=\"author\">(Szabó Sándor)</p>\n",
    "<p class=\"date\">2018. április</p>"
   ]
  },
  {
   "cell_type": "markdown",
   "metadata": {},
   "source": [
    "<p class=\"abstract\">Abstract</p>\n",
    "<p class=\"normal\">We investigate the $QR$ decomposition of a matrix, its realization in Python and some applications.</p><br />"
   ]
  },
  {
   "cell_type": "markdown",
   "metadata": {
    "toc": "true"
   },
   "source": [
    "# Table of Contents\n",
    " <p><div class=\"lev1 toc-item\"><a href=\"#Definitions\" data-toc-modified-id=\"Definitions-1\"><span class=\"toc-item-num\">1&nbsp;&nbsp;</span>Definitions</a></div><div class=\"lev1 toc-item\"><a href=\"#Theorems\" data-toc-modified-id=\"Theorems-2\"><span class=\"toc-item-num\">2&nbsp;&nbsp;</span>Theorems</a></div><div class=\"lev1 toc-item\"><a href=\"#Proof-of-Theorems-1-and-2\" data-toc-modified-id=\"Proof-of-Theorems-1-and-2-3\"><span class=\"toc-item-num\">3&nbsp;&nbsp;</span>Proof of Theorems 1 and 2</a></div><div class=\"lev1 toc-item\"><a href=\"#QR-factorization-algorithms\" data-toc-modified-id=\"QR-factorization-algorithms-4\"><span class=\"toc-item-num\">4&nbsp;&nbsp;</span>QR-factorization algorithms</a></div><div class=\"lev2 toc-item\"><a href=\"#Gram-Schmidt-orthogonalization\" data-toc-modified-id=\"Gram-Schmidt-orthogonalization-41\"><span class=\"toc-item-num\">4.1&nbsp;&nbsp;</span>Gram-Schmidt orthogonalization</a></div><div class=\"lev2 toc-item\"><a href=\"#Givens-rotations\" data-toc-modified-id=\"Givens-rotations-42\"><span class=\"toc-item-num\">4.2&nbsp;&nbsp;</span>Givens rotations</a></div><div class=\"lev2 toc-item\"><a href=\"#Householder-reflections\" data-toc-modified-id=\"Householder-reflections-43\"><span class=\"toc-item-num\">4.3&nbsp;&nbsp;</span>Householder reflections</a></div><div class=\"lev1 toc-item\"><a href=\"#Realization-in-Python\" data-toc-modified-id=\"Realization-in-Python-5\"><span class=\"toc-item-num\">5&nbsp;&nbsp;</span>Realization in Python</a></div><div class=\"lev1 toc-item\"><a href=\"#Applications\" data-toc-modified-id=\"Applications-6\"><span class=\"toc-item-num\">6&nbsp;&nbsp;</span>Applications</a></div><div class=\"lev2 toc-item\"><a href=\"#Calculation-of-determinant\" data-toc-modified-id=\"Calculation-of-determinant-61\"><span class=\"toc-item-num\">6.1&nbsp;&nbsp;</span>Calculation of determinant</a></div><div class=\"lev2 toc-item\"><a href=\"#Least-Square-solution-of-linear-system\" data-toc-modified-id=\"Least-Square-solution-of-linear-system-62\"><span class=\"toc-item-num\">6.2&nbsp;&nbsp;</span>Least Square solution of linear system</a></div><div class=\"lev1 toc-item\"><a href=\"#Bibliography\" data-toc-modified-id=\"Bibliography-7\"><span class=\"toc-item-num\">7&nbsp;&nbsp;</span>Bibliography</a></div>"
   ]
  },
  {
   "cell_type": "markdown",
   "metadata": {},
   "source": [
    "# Definitions "
   ]
  },
  {
   "cell_type": "markdown",
   "metadata": {
    "collapsed": true
   },
   "source": [
    "<div class=\"definition\"> \n",
    "<p class=\"normal\">Definition 1. In linear algebra a $QR$ decomposition of a matrix is a decomposition of a matrix $A$ into a product $A=QR$ of an orthogonal matrix $Q$ and an upper triangular matrix $R$.</p>\n",
    "</div>"
   ]
  },
  {
   "cell_type": "markdown",
   "metadata": {
    "collapsed": true
   },
   "source": [
    "# Theorems"
   ]
  },
  {
   "cell_type": "markdown",
   "metadata": {
    "collapsed": true
   },
   "source": [
    "<div class=\"theorem\">\n",
    "<p class=\"normal\">Theorem 1. If $A\\in\\mathcal{M}_n$ is an invertable matrix, then there exists a unique pair of orthogonal matrix $Q\\in\\mathcal{M}_n$ and upper triangular matrix $R\\in\\mathcal{M}_n$ with positive diagonal entries such that \n",
    "$$\n",
    "A=QR.\n",
    "$$\n",
    "</p>\n",
    "</div>"
   ]
  },
  {
   "cell_type": "markdown",
   "metadata": {},
   "source": [
    "<div class=\"theorem\">\n",
    "<p class=\"normal\">Theorem 2. If $A\\in\\mathcal{M}_{m\\times n}$, $m\\geq n$, then there exists a matrix $Q\\in\\mathcal{M}_{m\\times n}$ with orthonormal columns and an upper triangular matrix $R\\in\\mathcal{M}_n$ such that\n",
    "$$\n",
    "A=QR.\n",
    "$$\n",
    "</p>\n",
    "</div>"
   ]
  },
  {
   "cell_type": "markdown",
   "metadata": {},
   "source": [
    "# Proof of Theorems 1 and 2"
   ]
  },
  {
   "cell_type": "markdown",
   "metadata": {
    "collapsed": true
   },
   "source": [
    "<div class=\"proof\">\n",
    "<p class=\"normal\">Proof. <br />\n",
    "Uniqueness: Suppose that $A=Q_1R_1=Q_2R_2$, where $Q_1,Q_2$ are orthogonal and $R_1,R_2$\n",
    "are upper triangular with positive diagonal entries. Then\n",
    "$$\n",
    "M:=R_1R_2^{\\,-1}=Q_1^*Q_2.\n",
    "$$\n",
    "Since $M$ is upper triangular and orthogonal, it must be diagonal. \n",
    "The diagonal entries of $M$ are positive (because the upper triangular matrices $R_1$ and $R_2^{\\,-1}$ \n",
    "have positive diagonal entries) and of modulus one. Hence $M=I$, and consequently \n",
    "$$\n",
    "R_1=R_2, \\,\\,\\, Q_1=Q_2.\n",
    "$$\n",
    "Existence: (later)\n",
    "</p>\n",
    "</div>"
   ]
  },
  {
   "cell_type": "markdown",
   "metadata": {
    "collapsed": true
   },
   "source": [
    "# QR-factorization algorithms"
   ]
  },
  {
   "cell_type": "markdown",
   "metadata": {},
   "source": [
    "## Gram-Schmidt orthogonalization"
   ]
  },
  {
   "cell_type": "code",
   "execution_count": 17,
   "metadata": {},
   "outputs": [
    {
     "data": {
      "text/html": [
       "<iframe \n",
       "width=\"600\" height=\"365\" \n",
       "src=\"https://www.youtube.com/embed/jiKSNKPwBS0\" \n",
       "frameborder=\"0\" allow=\"autoplay; encrypted-media\" \n",
       "allowfullscreen>\n",
       "</iframe>"
      ],
      "text/plain": [
       "<IPython.core.display.HTML object>"
      ]
     },
     "metadata": {},
     "output_type": "display_data"
    }
   ],
   "source": [
    "%%html\n",
    "<iframe \n",
    "width=\"600\" height=\"365\" \n",
    "src=\"https://www.youtube.com/embed/jiKSNKPwBS0\" \n",
    "frameborder=\"0\" allow=\"autoplay; encrypted-media\" \n",
    "allowfullscreen>\n",
    "</iframe>"
   ]
  },
  {
   "cell_type": "code",
   "execution_count": 15,
   "metadata": {},
   "outputs": [],
   "source": [
    "#from IPython.lib.display import YouTubeVideo\n",
    "#YouTubeVideo('jiKSNKPwBS0')"
   ]
  },
  {
   "cell_type": "code",
   "execution_count": 16,
   "metadata": {},
   "outputs": [],
   "source": [
    "#from IPython.display import HTML\n",
    "## Youtube\n",
    "#HTML('<iframe width=\"600\" height=\"365\" src=\"https://www.youtube.com/embed/jiKSNKPwBS0\" frameborder=\"0\" allow=\"autoplay; encrypted-media\" allowfullscreen></iframe>')"
   ]
  },
  {
   "cell_type": "code",
   "execution_count": null,
   "metadata": {
    "collapsed": true
   },
   "outputs": [],
   "source": []
  },
  {
   "cell_type": "markdown",
   "metadata": {
    "collapsed": true
   },
   "source": [
    "## Givens rotations"
   ]
  },
  {
   "cell_type": "code",
   "execution_count": null,
   "metadata": {
    "collapsed": true
   },
   "outputs": [],
   "source": []
  },
  {
   "cell_type": "markdown",
   "metadata": {
    "collapsed": true
   },
   "source": [
    "## Householder reflections"
   ]
  },
  {
   "cell_type": "code",
   "execution_count": null,
   "metadata": {
    "collapsed": true
   },
   "outputs": [],
   "source": []
  },
  {
   "cell_type": "markdown",
   "metadata": {},
   "source": [
    "# Realization in Python"
   ]
  },
  {
   "cell_type": "code",
   "execution_count": 2,
   "metadata": {
    "collapsed": true
   },
   "outputs": [],
   "source": [
    "%matplotlib inline"
   ]
  },
  {
   "cell_type": "code",
   "execution_count": 3,
   "metadata": {
    "collapsed": true
   },
   "outputs": [],
   "source": [
    "import matplotlib.pyplot as plt\n",
    "import numpy as np\n",
    "from numpy.linalg import qr\n",
    "import sympy as sp\n",
    "from sympy import *"
   ]
  },
  {
   "cell_type": "code",
   "execution_count": 4,
   "metadata": {
    "collapsed": true
   },
   "outputs": [],
   "source": [
    "from IPython.display import HTML,Latex, display\n",
    "init_printing(use_unicode=True) # nice output"
   ]
  },
  {
   "cell_type": "code",
   "execution_count": 47,
   "metadata": {},
   "outputs": [
    {
     "name": "stdout",
     "output_type": "stream",
     "text": [
      "A= \n",
      " [[ 12 -51   4]\n",
      " [  6 167 -68]\n",
      " [ -4  24 -41]]\n"
     ]
    }
   ],
   "source": [
    "A = np.array([[12, -51, 4], [6, 167, -68], [-4, 24, -41]])\n",
    "print('A= \\n', A)"
   ]
  },
  {
   "cell_type": "code",
   "execution_count": 45,
   "metadata": {},
   "outputs": [
    {
     "name": "stdout",
     "output_type": "stream",
     "text": [
      "Q= \n",
      " [[-0.85714286  0.39428571  0.33142857]\n",
      " [-0.42857143 -0.90285714 -0.03428571]\n",
      " [ 0.28571429 -0.17142857  0.94285714]]\n",
      "R= \n",
      " [[ -14.  -21.   14.]\n",
      " [   0. -175.   70.]\n",
      " [   0.    0.  -35.]]\n",
      "A-QR= \n",
      " [[  0.00000000e+00   1.42108547e-14  -1.77635684e-15]\n",
      " [  0.00000000e+00  -2.84217094e-14   1.42108547e-14]\n",
      " [  8.88178420e-16   0.00000000e+00   0.00000000e+00]]\n",
      "max error=  2.84217094304e-14\n"
     ]
    }
   ],
   "source": [
    "Q, R = qr(A, 'complete')\n",
    "print('Q= \\n', Q)\n",
    "print('R= \\n', R)\n",
    "err = A - np.dot(Q, R)\n",
    "print('A-QR= \\n', err)\n",
    "max_err = np.max(np.abs(err))\n",
    "print('max error= ', max_err)"
   ]
  },
  {
   "cell_type": "markdown",
   "metadata": {},
   "source": [
    "# Applications"
   ]
  },
  {
   "cell_type": "markdown",
   "metadata": {},
   "source": [
    "## Calculation of determinant"
   ]
  },
  {
   "cell_type": "markdown",
   "metadata": {},
   "source": [
    "<p class=\"normal\">\n",
    "If $A=QR$ then\n",
    "\\begin{align*}\n",
    "\\det(A) &=\\det(Q)\\det(R) \\\\\n",
    "        &=\\det(R) \\\\\n",
    "        &=\\prod_{i}r_{ii}\n",
    "\\end{align*}\n",
    "</p>"
   ]
  },
  {
   "cell_type": "markdown",
   "metadata": {},
   "source": [
    "<div class=\"definition\"> \n",
    "<p class=\"normal\">Definition 1. In linear algebra a $QR$ decomposition of a matrix is a decomposition of a matrix $A$ into a product $A=QR$ of an orthogonal matrix $Q$ and an upper triangular matrix $R$.</p>\n",
    "</div>"
   ]
  },
  {
   "cell_type": "markdown",
   "metadata": {},
   "source": [
    "## Least Square solution of linear system"
   ]
  },
  {
   "cell_type": "markdown",
   "metadata": {},
   "source": [
    "<p class=\"normal\">\n",
    "Many times the linear system \n",
    "$$\n",
    "A\\boldsymbol{x}=\\boldsymbol{b}\n",
    "$$\n",
    "has no solution. In this case we may want to minimize the distance $\\boldsymbol{r}$ between $A\\boldsymbol{x}$ and $\\boldsymbol{b}$. If we use euclidean distance \n",
    "we can write\n",
    "\\begin{align*}\n",
    "\\Vert \\boldsymbol{r} \\Vert^2 &=\\Vert \\boldsymbol{b}-A\\boldsymbol{x}\\Vert^2 \\\\\n",
    "&=\\Vert \\boldsymbol{b}-QR\\boldsymbol{x}\\Vert^2 \\\\\n",
    "&=\\Vert Q^*\\boldsymbol{b}-(Q^*Q)R\\boldsymbol{x}\\Vert^2 \\,\\,\\, \\text{because }Q\\text{ is orthogonal}  \\\\\n",
    "&=\\Vert Q^*\\boldsymbol{b}-R\\boldsymbol{x}\\Vert^2    \n",
    "\\,\\,\\,\\text{because }Q^*Q=I  \\\\\n",
    "&=\\Vert \\boldsymbol{c}-R\\boldsymbol{x}\\Vert^2\n",
    "\\,\\,\\,\\text{where } \\boldsymbol{c}=Q^*\\boldsymbol{b}=\n",
    "\\left[\n",
    "\\begin{array}{rr}\n",
    "    \\boldsymbol{c}_1  \\\\\n",
    "    \\boldsymbol{c}_2  \n",
    "\\end{array}\n",
    "\\right] \\\\\n",
    "&=\\Vert \\boldsymbol{c}_1-R\\boldsymbol{x}\\Vert^2\n",
    "+\\Vert \\boldsymbol{c}_2\\Vert^2 \\\\\n",
    "&=\\Vert \\boldsymbol{c}_2\\Vert^2\\,\\,\\,\\text{if we choose }\\boldsymbol{x} \\text{ such that }R\\boldsymbol{x}=\\boldsymbol{c}_1.\n",
    "\\end{align*}\n",
    "</p>"
   ]
  },
  {
   "cell_type": "markdown",
   "metadata": {},
   "source": [
    "# Bibliography"
   ]
  },
  {
   "cell_type": "markdown",
   "metadata": {},
   "source": [
    "<p class=\"normal\">\n",
    "[1] Wikipedia, QR decomposition. \n",
    "<a href=\"https://en.wikipedia.org/wiki/QR_decomposition\">Homepage</a>\n",
    "</p>"
   ]
  },
  {
   "cell_type": "code",
   "execution_count": 6,
   "metadata": {
    "collapsed": true
   },
   "outputs": [],
   "source": [
    "from IPython.core.display import HTML\n",
    "#def css_styling():\n",
    "#    styles = open(\"HomeWorks/css/hw.css\", \"r\").read()\n",
    "#    return HTML(\"<style>\"+styles+\"</style>\")\n",
    "#css_styling()"
   ]
  },
  {
   "cell_type": "code",
   "execution_count": 7,
   "metadata": {
    "collapsed": true
   },
   "outputs": [
    {
     "ename": "ModuleNotFoundError",
     "evalue": "No module named 'urllib2'",
     "output_type": "error",
     "traceback": [
      "\u001b[1;31m---------------------------------------------------------------------------\u001b[0m",
      "\u001b[1;31mModuleNotFoundError\u001b[0m                       Traceback (most recent call last)",
      "\u001b[1;32m<ipython-input-7-27ed91c02a0d>\u001b[0m in \u001b[0;36m<module>\u001b[1;34m()\u001b[0m\n\u001b[0;32m      1\u001b[0m \u001b[1;32mfrom\u001b[0m \u001b[0mIPython\u001b[0m\u001b[1;33m.\u001b[0m\u001b[0mdisplay\u001b[0m \u001b[1;32mimport\u001b[0m \u001b[0mHTML\u001b[0m\u001b[1;33m\u001b[0m\u001b[0m\n\u001b[1;32m----> 2\u001b[1;33m \u001b[1;32mimport\u001b[0m \u001b[0murllib2\u001b[0m\u001b[1;33m\u001b[0m\u001b[0m\n\u001b[0m\u001b[0;32m      3\u001b[0m \u001b[0mHTML\u001b[0m\u001b[1;33m(\u001b[0m\u001b[0murllib2\u001b[0m\u001b[1;33m.\u001b[0m\u001b[0murlopen\u001b[0m\u001b[1;33m(\u001b[0m\u001b[1;34m'https://github.com/wesszabo/numerikus-szamitasok/blob/master/HomeWorks/css/hw.css'\u001b[0m\u001b[1;33m)\u001b[0m\u001b[1;33m.\u001b[0m\u001b[0mread\u001b[0m\u001b[1;33m(\u001b[0m\u001b[1;33m)\u001b[0m\u001b[1;33m)\u001b[0m\u001b[1;33m\u001b[0m\u001b[0m\n",
      "\u001b[1;31mModuleNotFoundError\u001b[0m: No module named 'urllib2'"
     ]
    }
   ],
   "source": [
    "from IPython.display import HTML\n",
    "import urllib2\n",
    "HTML(urllib2.urlopen('https://github.com/wesszabo/numerikus-szamitasok/blob/master/HomeWorks/css/hw.css').read())"
   ]
  },
  {
   "cell_type": "code",
   "execution_count": 11,
   "metadata": {
    "collapsed": true
   },
   "outputs": [
    {
     "name": "stdout",
     "output_type": "stream",
     "text": [
      "b'\\n\\n\\n\\n\\n\\n<!DOCTYPE html>\\n<html lang=\"en\">\\n  <head>\\n    <meta charset=\"utf-8\">\\n  <link rel=\"dns-prefetch\" href=\"https://assets-cdn.github.com\">\\n  <link rel=\"dns-prefetch\" href=\"https://avatars0.githubusercontent.com\">\\n  <link rel=\"dns-prefetch\" href=\"https://avatars1.githubusercontent.com\">\\n  <link rel=\"dns-prefetch\" href=\"https://avatars2.githubusercontent.com\">\\n  <link rel=\"dns-prefetch\" href=\"https://avatars3.githubusercontent.com\">\\n  <link rel=\"dns-prefetch\" href=\"https://github-cloud.s3.amazonaws.com\">\\n  <link rel=\"dns-prefetch\" href=\"https://user-images.githubusercontent.com/\">\\n\\n\\n\\n  <link crossorigin=\"anonymous\" media=\"all\" rel=\"stylesheet\" href=\"https://assets-cdn.github.com/assets/frameworks-29f21e31d44fd2c6858f04860799bc74.css\" />\\n  <link crossorigin=\"anonymous\" media=\"all\" rel=\"stylesheet\" href=\"https://assets-cdn.github.com/assets/github-08c0695b372c4d0fadbe37f9e2300ed2.css\" />\\n  \\n  \\n  <link crossorigin=\"anonymous\" media=\"all\" rel=\"stylesheet\" href=\"https://assets-cdn.github.com/assets/site-348211d27070b0d7bb5d31b1ac3d265b.css\" />\\n  \\n\\n  <meta name=\"viewport\" content=\"width=device-width\">\\n  \\n  <title>numerikus-szamitasok/hw.css at master \\xc2\\xb7 wesszabo/numerikus-szamitasok \\xc2\\xb7 GitHub</title>\\n    <meta name=\"description\" content=\"GitHub is where people build software. More than 27 million people use GitHub to discover, fork, and contribute to over 80 million projects.\">\\n  <link rel=\"search\" type=\"application/opensearchdescription+xml\" href=\"/opensearch.xml\" title=\"GitHub\">\\n  <link rel=\"fluid-icon\" href=\"https://github.com/fluidicon.png\" title=\"GitHub\">\\n  <meta property=\"fb:app_id\" content=\"1401488693436528\">\\n\\n    \\n    <meta property=\"og:image\" content=\"https://avatars1.githubusercontent.com/u/16723272?s=400&amp;v=4\" /><meta property=\"og:site_name\" content=\"GitHub\" /><meta property=\"og:type\" content=\"object\" /><meta property=\"og:title\" content=\"wesszabo/numerikus-szamitasok\" /><meta property=\"og:url\" content=\"https://github.com/wesszabo/numerikus-szamitasok\" /><meta property=\"og:description\" content=\"numerikus-szamitasok - Numerikus sz\\xc3\\xa1m\\xc3\\xadt\\xc3\\xa1sok fizikusoknak\" />\\n\\n  <link rel=\"assets\" href=\"https://assets-cdn.github.com/\">\\n  \\n  <meta name=\"pjax-timeout\" content=\"1000\">\\n  \\n  <meta name=\"request-id\" content=\"7EAD:0B96:1CB4F0:346D45:5ACE590A\" data-pjax-transient>\\n\\n\\n  \\n\\n  <meta name=\"selected-link\" value=\"repo_source\" data-pjax-transient>\\n\\n    <meta name=\"google-site-verification\" content=\"KT5gs8h0wvaagLKAVWq8bbeNwnZZK1r1XQysX3xurLU\">\\n  <meta name=\"google-site-verification\" content=\"ZzhVyEFwb7w3e0-uOTltm8Jsck2F5StVihD0exw2fsA\">\\n  <meta name=\"google-site-verification\" content=\"GXs5KoUUkNCoaAZn7wPN-t01Pywp9M3sEjnt_3_ZWPc\">\\n    <meta name=\"google-analytics\" content=\"UA-3769691-2\">\\n\\n<meta name=\"octolytics-host\" content=\"collector.githubapp.com\" /><meta name=\"octolytics-app-id\" content=\"github\" /><meta name=\"octolytics-event-url\" content=\"https://collector.githubapp.com/github-external/browser_event\" /><meta name=\"octolytics-dimension-request_id\" content=\"7EAD:0B96:1CB4F0:346D45:5ACE590A\" /><meta name=\"octolytics-dimension-region_edge\" content=\"iad\" /><meta name=\"octolytics-dimension-region_render\" content=\"iad\" />\\n<meta name=\"hydro-events-url\" content=\"https://github.com/hydro_browser_events\" />\\n<meta name=\"analytics-location\" content=\"/&lt;user-name&gt;/&lt;repo-name&gt;/blob/show\" data-pjax-transient=\"true\" />\\n\\n\\n\\n\\n  <meta class=\"js-ga-set\" name=\"dimension1\" content=\"Logged Out\">\\n\\n\\n  \\n\\n      <meta name=\"hostname\" content=\"github.com\">\\n    <meta name=\"user-login\" content=\"\">\\n\\n      <meta name=\"expected-hostname\" content=\"github.com\">\\n    <meta name=\"js-proxy-site-detection-payload\" content=\"ZGNlZGY0ODc1NTMyMWMyOWE4NmZhYzY3M2RhMGQ2Y2U1ZDQ5NmNhNTIzNTAwZjNkZTY1MTk0NWEzMDg4OTYxNHx7InJlbW90ZV9hZGRyZXNzIjoiMTc2LjYzLjE4LjIwNSIsInJlcXVlc3RfaWQiOiI3RUFEOjBCOTY6MUNCNEYwOjM0NkQ0NTo1QUNFNTkwQSIsInRpbWVzdGFtcCI6MTUyMzQ3MjY1MCwiaG9zdCI6ImdpdGh1Yi5jb20ifQ==\">\\n\\n    <meta name=\"enabled-features\" content=\"UNIVERSE_BANNER,FREE_TRIALS,MARKETPLACE_INSIGHTS,MARKETPLACE_SELF_SERVE,MARKETPLACE_INSIGHTS_CONVERSION_PERCENTAGES\">\\n\\n  <meta name=\"html-safe-nonce\" content=\"6690226f5ee333c2f98ce7806e933239f3cc3480\">\\n\\n  <meta http-equiv=\"x-pjax-version\" content=\"03438d07dbab6f1534ea017081329a17\">\\n  \\n\\n      <link href=\"https://github.com/wesszabo/numerikus-szamitasok/commits/master.atom\" rel=\"alternate\" title=\"Recent Commits to numerikus-szamitasok:master\" type=\"application/atom+xml\">\\n\\n  <meta name=\"description\" content=\"numerikus-szamitasok - Numerikus sz\\xc3\\xa1m\\xc3\\xadt\\xc3\\xa1sok fizikusoknak\">\\n  <meta name=\"go-import\" content=\"github.com/wesszabo/numerikus-szamitasok git https://github.com/wesszabo/numerikus-szamitasok.git\">\\n\\n  <meta name=\"octolytics-dimension-user_id\" content=\"16723272\" /><meta name=\"octolytics-dimension-user_login\" content=\"wesszabo\" /><meta name=\"octolytics-dimension-repository_id\" content=\"128989440\" /><meta name=\"octolytics-dimension-repository_nwo\" content=\"wesszabo/numerikus-szamitasok\" /><meta name=\"octolytics-dimension-repository_public\" content=\"true\" /><meta name=\"octolytics-dimension-repository_is_fork\" content=\"false\" /><meta name=\"octolytics-dimension-repository_network_root_id\" content=\"128989440\" /><meta name=\"octolytics-dimension-repository_network_root_nwo\" content=\"wesszabo/numerikus-szamitasok\" /><meta name=\"octolytics-dimension-repository_explore_github_marketplace_ci_cta_shown\" content=\"false\" />\\n\\n\\n    <link rel=\"canonical\" href=\"https://github.com/wesszabo/numerikus-szamitasok/blob/master/HomeWorks/css/hw.css\" data-pjax-transient>\\n\\n\\n  <meta name=\"browser-stats-url\" content=\"https://api.github.com/_private/browser/stats\">\\n\\n  <meta name=\"browser-errors-url\" content=\"https://api.github.com/_private/browser/errors\">\\n\\n  <link rel=\"mask-icon\" href=\"https://assets-cdn.github.com/pinned-octocat.svg\" color=\"#000000\">\\n  <link rel=\"icon\" type=\"image/x-icon\" class=\"js-site-favicon\" href=\"https://assets-cdn.github.com/favicon.ico\">\\n\\n<meta name=\"theme-color\" content=\"#1e2327\">\\n\\n\\n\\n<link rel=\"manifest\" href=\"/manifest.json\" crossOrigin=\"use-credentials\">\\n\\n  </head>\\n\\n  <body class=\"logged-out env-production page-blob\">\\n    \\n\\n  <div class=\"position-relative js-header-wrapper \">\\n    <a href=\"#start-of-content\" tabindex=\"1\" class=\"px-2 py-4 bg-blue text-white show-on-focus js-skip-to-content\">Skip to content</a>\\n    <div id=\"js-pjax-loader-bar\" class=\"pjax-loader-bar\"><div class=\"progress\"></div></div>\\n\\n    \\n    \\n    \\n\\n\\n\\n        <header class=\"Header header-logged-out  position-relative f4 py-3\" role=\"banner\">\\n  <div class=\"container-lg d-flex px-3\">\\n    <div class=\"d-flex flex-justify-between flex-items-center\">\\n      <a class=\"header-logo-invertocat my-0\" href=\"https://github.com/\" aria-label=\"Homepage\" data-ga-click=\"(Logged out) Header, go to homepage, icon:logo-wordmark\">\\n        <svg height=\"32\" class=\"octicon octicon-mark-github\" viewBox=\"0 0 16 16\" version=\"1.1\" width=\"32\" aria-hidden=\"true\"><path fill-rule=\"evenodd\" d=\"M8 0C3.58 0 0 3.58 0 8c0 3.54 2.29 6.53 5.47 7.59.4.07.55-.17.55-.38 0-.19-.01-.82-.01-1.49-2.01.37-2.53-.49-2.69-.94-.09-.23-.48-.94-.82-1.13-.28-.15-.68-.52-.01-.53.63-.01 1.08.58 1.23.82.72 1.21 1.87.87 2.33.66.07-.52.28-.87.51-1.07-1.78-.2-3.64-.89-3.64-3.95 0-.87.31-1.59.82-2.15-.08-.2-.36-1.02.08-2.12 0 0 .67-.21 2.2.82.64-.18 1.32-.27 2-.27.68 0 1.36.09 2 .27 1.53-1.04 2.2-.82 2.2-.82.44 1.1.16 1.92.08 2.12.51.56.82 1.27.82 2.15 0 3.07-1.87 3.75-3.65 3.95.29.25.54.73.54 1.48 0 1.07-.01 1.93-.01 2.2 0 .21.15.46.55.38A8.013 8.013 0 0 0 16 8c0-4.42-3.58-8-8-8z\"/></svg>\\n      </a>\\n\\n    </div>\\n\\n    <div class=\"HeaderMenu HeaderMenu--bright d-flex flex-justify-between flex-auto\">\\n        <nav class=\"mt-0\">\\n          <ul class=\"d-flex list-style-none\">\\n              <li class=\"ml-2\">\\n                <a class=\"js-selected-navigation-item HeaderNavlink px-0 py-2 m-0\" data-ga-click=\"Header, click, Nav menu - item:features\" data-selected-links=\"/features /features/project-management /features/code-review /features/project-management /features/integrations /features\" href=\"/features\">\\n                  Features\\n</a>              </li>\\n              <li class=\"ml-4\">\\n                <a class=\"js-selected-navigation-item HeaderNavlink px-0 py-2 m-0\" data-ga-click=\"Header, click, Nav menu - item:business\" data-selected-links=\"/business /business/security /business/customers /business\" href=\"/business\">\\n                  Business\\n</a>              </li>\\n\\n              <li class=\"ml-4\">\\n                <a class=\"js-selected-navigation-item HeaderNavlink px-0 py-2 m-0\" data-ga-click=\"Header, click, Nav menu - item:explore\" data-selected-links=\"/explore /trending /trending/developers /integrations /integrations/feature/code /integrations/feature/collaborate /integrations/feature/ship showcases showcases_search showcases_landing /explore\" href=\"/explore\">\\n                  Explore\\n</a>              </li>\\n\\n              <li class=\"ml-4\">\\n                    <a class=\"js-selected-navigation-item HeaderNavlink px-0 py-2 m-0\" data-ga-click=\"Header, click, Nav menu - item:marketplace\" data-selected-links=\" /marketplace\" href=\"/marketplace\">\\n                      Marketplace\\n</a>              </li>\\n              <li class=\"ml-4\">\\n                <a class=\"js-selected-navigation-item HeaderNavlink px-0 py-2 m-0\" data-ga-click=\"Header, click, Nav menu - item:pricing\" data-selected-links=\"/pricing /pricing/developer /pricing/team /pricing/business-hosted /pricing/business-enterprise /pricing\" href=\"/pricing\">\\n                  Pricing\\n</a>              </li>\\n          </ul>\\n        </nav>\\n\\n      <div class=\"d-flex\">\\n          <div class=\"d-lg-flex flex-items-center mr-3\">\\n            <div class=\"header-search scoped-search site-scoped-search js-site-search\" role=\"search\">\\n  <!-- \\'\"` --><!-- </textarea></xmp> --></option></form><form class=\"js-site-search-form\" data-scoped-search-url=\"/wesszabo/numerikus-szamitasok/search\" data-unscoped-search-url=\"/search\" action=\"/wesszabo/numerikus-szamitasok/search\" accept-charset=\"UTF-8\" method=\"get\"><input name=\"utf8\" type=\"hidden\" value=\"&#x2713;\" />\\n    <label class=\"form-control header-search-wrapper  js-chromeless-input-container\">\\n        <a class=\"header-search-scope no-underline\" href=\"/wesszabo/numerikus-szamitasok/blob/master/HomeWorks/css/hw.css\">This repository</a>\\n      <input type=\"text\"\\n        class=\"form-control header-search-input  js-site-search-focus js-site-search-field is-clearable\"\\n        data-hotkey=\"s,/\"\\n        name=\"q\"\\n        value=\"\"\\n        placeholder=\"Search\"\\n        aria-label=\"Search this repository\"\\n        data-unscoped-placeholder=\"Search GitHub\"\\n        data-scoped-placeholder=\"Search\"\\n        autocapitalize=\"off\"\\n        >\\n        <input type=\"hidden\" class=\"js-site-search-type-field\" name=\"type\" >\\n    </label>\\n</form></div>\\n\\n          </div>\\n\\n        <span class=\"d-inline-block\">\\n            <div class=\"HeaderNavlink px-0 py-2 m-0\">\\n              <a class=\"text-bold text-white no-underline\" href=\"/login?return_to=%2Fwesszabo%2Fnumerikus-szamitasok%2Fblob%2Fmaster%2FHomeWorks%2Fcss%2Fhw.css\" data-ga-click=\"(Logged out) Header, clicked Sign in, text:sign-in\">Sign in</a>\\n                <span class=\"text-gray\">or</span>\\n                <a class=\"text-bold text-white no-underline\" href=\"/join?source=header-repo\" data-ga-click=\"(Logged out) Header, clicked Sign up, text:sign-up\">Sign up</a>\\n            </div>\\n        </span>\\n      </div>\\n    </div>\\n  </div>\\n</header>\\n\\n  </div>\\n\\n  <div id=\"start-of-content\" class=\"show-on-focus\"></div>\\n\\n    <div id=\"js-flash-container\">\\n</div>\\n\\n\\n\\n  <div role=\"main\" class=\"application-main \">\\n        <div itemscope itemtype=\"http://schema.org/SoftwareSourceCode\" class=\"\">\\n    <div id=\"js-repo-pjax-container\" data-pjax-container >\\n      \\n\\n\\n\\n\\n\\n\\n\\n  <div class=\"pagehead repohead instapaper_ignore readability-menu experiment-repo-nav  \">\\n    <div class=\"repohead-details-container clearfix container\">\\n\\n      <ul class=\"pagehead-actions\">\\n  <li>\\n      <a href=\"/login?return_to=%2Fwesszabo%2Fnumerikus-szamitasok\"\\n    class=\"btn btn-sm btn-with-count tooltipped tooltipped-n\"\\n    aria-label=\"You must be signed in to watch a repository\" rel=\"nofollow\">\\n    <svg class=\"octicon octicon-eye\" viewBox=\"0 0 16 16\" version=\"1.1\" width=\"16\" height=\"16\" aria-hidden=\"true\"><path fill-rule=\"evenodd\" d=\"M8.06 2C3 2 0 8 0 8s3 6 8.06 6C13 14 16 8 16 8s-3-6-7.94-6zM8 12c-2.2 0-4-1.78-4-4 0-2.2 1.8-4 4-4 2.22 0 4 1.8 4 4 0 2.22-1.78 4-4 4zm2-4c0 1.11-.89 2-2 2-1.11 0-2-.89-2-2 0-1.11.89-2 2-2 1.11 0 2 .89 2 2z\"/></svg>\\n    Watch\\n  </a>\\n  <a class=\"social-count\" href=\"/wesszabo/numerikus-szamitasok/watchers\"\\n     aria-label=\"1 user is watching this repository\">\\n    1\\n  </a>\\n\\n  </li>\\n\\n  <li>\\n      <a href=\"/login?return_to=%2Fwesszabo%2Fnumerikus-szamitasok\"\\n    class=\"btn btn-sm btn-with-count tooltipped tooltipped-n\"\\n    aria-label=\"You must be signed in to star a repository\" rel=\"nofollow\">\\n    <svg class=\"octicon octicon-star\" viewBox=\"0 0 14 16\" version=\"1.1\" width=\"14\" height=\"16\" aria-hidden=\"true\"><path fill-rule=\"evenodd\" d=\"M14 6l-4.9-.64L7 1 4.9 5.36 0 6l3.6 3.26L2.67 14 7 11.67 11.33 14l-.93-4.74z\"/></svg>\\n    Star\\n  </a>\\n\\n    <a class=\"social-count js-social-count\" href=\"/wesszabo/numerikus-szamitasok/stargazers\"\\n      aria-label=\"0 users starred this repository\">\\n      0\\n    </a>\\n\\n  </li>\\n\\n  <li>\\n      <a href=\"/login?return_to=%2Fwesszabo%2Fnumerikus-szamitasok\"\\n        class=\"btn btn-sm btn-with-count tooltipped tooltipped-n\"\\n        aria-label=\"You must be signed in to fork a repository\" rel=\"nofollow\">\\n        <svg class=\"octicon octicon-repo-forked\" viewBox=\"0 0 10 16\" version=\"1.1\" width=\"10\" height=\"16\" aria-hidden=\"true\"><path fill-rule=\"evenodd\" d=\"M8 1a1.993 1.993 0 0 0-1 3.72V6L5 8 3 6V4.72A1.993 1.993 0 0 0 2 1a1.993 1.993 0 0 0-1 3.72V6.5l3 3v1.78A1.993 1.993 0 0 0 5 15a1.993 1.993 0 0 0 1-3.72V9.5l3-3V4.72A1.993 1.993 0 0 0 8 1zM2 4.2C1.34 4.2.8 3.65.8 3c0-.65.55-1.2 1.2-1.2.65 0 1.2.55 1.2 1.2 0 .65-.55 1.2-1.2 1.2zm3 10c-.66 0-1.2-.55-1.2-1.2 0-.65.55-1.2 1.2-1.2.65 0 1.2.55 1.2 1.2 0 .65-.55 1.2-1.2 1.2zm3-10c-.66 0-1.2-.55-1.2-1.2 0-.65.55-1.2 1.2-1.2.65 0 1.2.55 1.2 1.2 0 .65-.55 1.2-1.2 1.2z\"/></svg>\\n        Fork\\n      </a>\\n\\n    <a href=\"/wesszabo/numerikus-szamitasok/network\" class=\"social-count\"\\n       aria-label=\"1 user forked this repository\">\\n      1\\n    </a>\\n  </li>\\n</ul>\\n\\n      <h1 class=\"public \">\\n  <svg class=\"octicon octicon-repo\" viewBox=\"0 0 12 16\" version=\"1.1\" width=\"12\" height=\"16\" aria-hidden=\"true\"><path fill-rule=\"evenodd\" d=\"M4 9H3V8h1v1zm0-3H3v1h1V6zm0-2H3v1h1V4zm0-2H3v1h1V2zm8-1v12c0 .55-.45 1-1 1H6v2l-1.5-1.5L3 16v-2H1c-.55 0-1-.45-1-1V1c0-.55.45-1 1-1h10c.55 0 1 .45 1 1zm-1 10H1v2h2v-1h3v1h5v-2zm0-10H2v9h9V1z\"/></svg>\\n  <span class=\"author\" itemprop=\"author\"><a class=\"url fn\" rel=\"author\" href=\"/wesszabo\">wesszabo</a></span><!--\\n--><span class=\"path-divider\">/</span><!--\\n--><strong itemprop=\"name\"><a data-pjax=\"#js-repo-pjax-container\" href=\"/wesszabo/numerikus-szamitasok\">numerikus-szamitasok</a></strong>\\n\\n</h1>\\n\\n    </div>\\n    \\n<nav class=\"reponav js-repo-nav js-sidenav-container-pjax container\"\\n     itemscope\\n     itemtype=\"http://schema.org/BreadcrumbList\"\\n     role=\"navigation\"\\n     data-pjax=\"#js-repo-pjax-container\">\\n\\n  <span itemscope itemtype=\"http://schema.org/ListItem\" itemprop=\"itemListElement\">\\n    <a class=\"js-selected-navigation-item selected reponav-item\" itemprop=\"url\" data-hotkey=\"g c\" data-selected-links=\"repo_source repo_downloads repo_commits repo_releases repo_tags repo_branches repo_packages /wesszabo/numerikus-szamitasok\" href=\"/wesszabo/numerikus-szamitasok\">\\n      <svg class=\"octicon octicon-code\" viewBox=\"0 0 14 16\" version=\"1.1\" width=\"14\" height=\"16\" aria-hidden=\"true\"><path fill-rule=\"evenodd\" d=\"M9.5 3L8 4.5 11.5 8 8 11.5 9.5 13 14 8 9.5 3zm-5 0L0 8l4.5 5L6 11.5 2.5 8 6 4.5 4.5 3z\"/></svg>\\n      <span itemprop=\"name\">Code</span>\\n      <meta itemprop=\"position\" content=\"1\">\\n</a>  </span>\\n\\n    <span itemscope itemtype=\"http://schema.org/ListItem\" itemprop=\"itemListElement\">\\n      <a itemprop=\"url\" data-hotkey=\"g i\" class=\"js-selected-navigation-item reponav-item\" data-selected-links=\"repo_issues repo_labels repo_milestones /wesszabo/numerikus-szamitasok/issues\" href=\"/wesszabo/numerikus-szamitasok/issues\">\\n        <svg class=\"octicon octicon-issue-opened\" viewBox=\"0 0 14 16\" version=\"1.1\" width=\"14\" height=\"16\" aria-hidden=\"true\"><path fill-rule=\"evenodd\" d=\"M7 2.3c3.14 0 5.7 2.56 5.7 5.7s-2.56 5.7-5.7 5.7A5.71 5.71 0 0 1 1.3 8c0-3.14 2.56-5.7 5.7-5.7zM7 1C3.14 1 0 4.14 0 8s3.14 7 7 7 7-3.14 7-7-3.14-7-7-7zm1 3H6v5h2V4zm0 6H6v2h2v-2z\"/></svg>\\n        <span itemprop=\"name\">Issues</span>\\n        <span class=\"Counter\">0</span>\\n        <meta itemprop=\"position\" content=\"2\">\\n</a>    </span>\\n\\n  <span itemscope itemtype=\"http://schema.org/ListItem\" itemprop=\"itemListElement\">\\n    <a data-hotkey=\"g p\" itemprop=\"url\" class=\"js-selected-navigation-item reponav-item\" data-selected-links=\"repo_pulls checks /wesszabo/numerikus-szamitasok/pulls\" href=\"/wesszabo/numerikus-szamitasok/pulls\">\\n      <svg class=\"octicon octicon-git-pull-request\" viewBox=\"0 0 12 16\" version=\"1.1\" width=\"12\" height=\"16\" aria-hidden=\"true\"><path fill-rule=\"evenodd\" d=\"M11 11.28V5c-.03-.78-.34-1.47-.94-2.06C9.46 2.35 8.78 2.03 8 2H7V0L4 3l3 3V4h1c.27.02.48.11.69.31.21.2.3.42.31.69v6.28A1.993 1.993 0 0 0 10 15a1.993 1.993 0 0 0 1-3.72zm-1 2.92c-.66 0-1.2-.55-1.2-1.2 0-.65.55-1.2 1.2-1.2.65 0 1.2.55 1.2 1.2 0 .65-.55 1.2-1.2 1.2zM4 3c0-1.11-.89-2-2-2a1.993 1.993 0 0 0-1 3.72v6.56A1.993 1.993 0 0 0 2 15a1.993 1.993 0 0 0 1-3.72V4.72c.59-.34 1-.98 1-1.72zm-.8 10c0 .66-.55 1.2-1.2 1.2-.65 0-1.2-.55-1.2-1.2 0-.65.55-1.2 1.2-1.2.65 0 1.2.55 1.2 1.2zM2 4.2C1.34 4.2.8 3.65.8 3c0-.65.55-1.2 1.2-1.2.65 0 1.2.55 1.2 1.2 0 .65-.55 1.2-1.2 1.2z\"/></svg>\\n      <span itemprop=\"name\">Pull requests</span>\\n      <span class=\"Counter\">0</span>\\n      <meta itemprop=\"position\" content=\"3\">\\n</a>  </span>\\n\\n    <a data-hotkey=\"g b\" class=\"js-selected-navigation-item reponav-item\" data-selected-links=\"repo_projects new_repo_project repo_project /wesszabo/numerikus-szamitasok/projects\" href=\"/wesszabo/numerikus-szamitasok/projects\">\\n      <svg class=\"octicon octicon-project\" viewBox=\"0 0 15 16\" version=\"1.1\" width=\"15\" height=\"16\" aria-hidden=\"true\"><path fill-rule=\"evenodd\" d=\"M10 12h3V2h-3v10zm-4-2h3V2H6v8zm-4 4h3V2H2v12zm-1 1h13V1H1v14zM14 0H1a1 1 0 0 0-1 1v14a1 1 0 0 0 1 1h13a1 1 0 0 0 1-1V1a1 1 0 0 0-1-1z\"/></svg>\\n      Projects\\n      <span class=\"Counter\" >0</span>\\n</a>\\n\\n\\n  <a class=\"js-selected-navigation-item reponav-item\" data-selected-links=\"repo_graphs repo_contributors dependency_graph pulse /wesszabo/numerikus-szamitasok/pulse\" href=\"/wesszabo/numerikus-szamitasok/pulse\">\\n    <svg class=\"octicon octicon-graph\" viewBox=\"0 0 16 16\" version=\"1.1\" width=\"16\" height=\"16\" aria-hidden=\"true\"><path fill-rule=\"evenodd\" d=\"M16 14v1H0V0h1v14h15zM5 13H3V8h2v5zm4 0H7V3h2v10zm4 0h-2V6h2v7z\"/></svg>\\n    Insights\\n</a>\\n\\n</nav>\\n\\n\\n  </div>\\n\\n<div class=\"container new-discussion-timeline experiment-repo-nav  \">\\n  <div class=\"repository-content \">\\n\\n    \\n  <a class=\"d-none js-permalink-shortcut\" data-hotkey=\"y\" href=\"/wesszabo/numerikus-szamitasok/blob/643010b9b06d17337e3b14cd7e0e8bb1393689f9/HomeWorks/css/hw.css\">Permalink</a>\\n\\n  <!-- blob contrib key: blob_contributors:v21:60e67e4c36c40976efc22a8dce5b6f29 -->\\n\\n  <div class=\"file-navigation\">\\n    \\n<div class=\"select-menu branch-select-menu js-menu-container js-select-menu float-left\">\\n  <button class=\" btn btn-sm select-menu-button js-menu-target css-truncate\" data-hotkey=\"w\"\\n    \\n    type=\"button\" aria-label=\"Switch branches or tags\" aria-expanded=\"false\" aria-haspopup=\"true\">\\n      <i>Branch:</i>\\n      <span class=\"js-select-button css-truncate-target\">master</span>\\n  </button>\\n\\n  <div class=\"select-menu-modal-holder js-menu-content js-navigation-container\" data-pjax>\\n\\n    <div class=\"select-menu-modal\">\\n      <div class=\"select-menu-header\">\\n        <svg class=\"octicon octicon-x js-menu-close\" role=\"img\" aria-label=\"Close\" viewBox=\"0 0 12 16\" version=\"1.1\" width=\"12\" height=\"16\"><path fill-rule=\"evenodd\" d=\"M7.48 8l3.75 3.75-1.48 1.48L6 9.48l-3.75 3.75-1.48-1.48L4.52 8 .77 4.25l1.48-1.48L6 6.52l3.75-3.75 1.48 1.48z\"/></svg>\\n        <span class=\"select-menu-title\">Switch branches/tags</span>\\n      </div>\\n\\n      <div class=\"select-menu-filters\">\\n        <div class=\"select-menu-text-filter\">\\n          <input type=\"text\" aria-label=\"Filter branches/tags\" id=\"context-commitish-filter-field\" class=\"form-control js-filterable-field js-navigation-enable\" placeholder=\"Filter branches/tags\">\\n        </div>\\n        <div class=\"select-menu-tabs\">\\n          <ul>\\n            <li class=\"select-menu-tab\">\\n              <a href=\"#\" data-tab-filter=\"branches\" data-filter-placeholder=\"Filter branches/tags\" class=\"js-select-menu-tab\" role=\"tab\">Branches</a>\\n            </li>\\n            <li class=\"select-menu-tab\">\\n              <a href=\"#\" data-tab-filter=\"tags\" data-filter-placeholder=\"Find a tag\\xe2\\x80\\xa6\" class=\"js-select-menu-tab\" role=\"tab\">Tags</a>\\n            </li>\\n          </ul>\\n        </div>\\n      </div>\\n\\n      <div class=\"select-menu-list select-menu-tab-bucket js-select-menu-tab-bucket\" data-tab-filter=\"branches\" role=\"menu\">\\n\\n        <div data-filterable-for=\"context-commitish-filter-field\" data-filterable-type=\"substring\">\\n\\n\\n            <a class=\"select-menu-item js-navigation-item js-navigation-open selected\"\\n               href=\"/wesszabo/numerikus-szamitasok/blob/master/HomeWorks/css/hw.css\"\\n               data-name=\"master\"\\n               data-skip-pjax=\"true\"\\n               rel=\"nofollow\">\\n              <svg class=\"octicon octicon-check select-menu-item-icon\" viewBox=\"0 0 12 16\" version=\"1.1\" width=\"12\" height=\"16\" aria-hidden=\"true\"><path fill-rule=\"evenodd\" d=\"M12 5l-8 8-4-4 1.5-1.5L4 10l6.5-6.5z\"/></svg>\\n              <span class=\"select-menu-item-text css-truncate-target js-select-menu-filter-text\">\\n                master\\n              </span>\\n            </a>\\n        </div>\\n\\n          <div class=\"select-menu-no-results\">Nothing to show</div>\\n      </div>\\n\\n      <div class=\"select-menu-list select-menu-tab-bucket js-select-menu-tab-bucket\" data-tab-filter=\"tags\">\\n        <div data-filterable-for=\"context-commitish-filter-field\" data-filterable-type=\"substring\">\\n\\n\\n        </div>\\n\\n        <div class=\"select-menu-no-results\">Nothing to show</div>\\n      </div>\\n\\n    </div>\\n  </div>\\n</div>\\n\\n    <div class=\"BtnGroup float-right\">\\n      <a href=\"/wesszabo/numerikus-szamitasok/find/master\"\\n            class=\"js-pjax-capture-input btn btn-sm BtnGroup-item\"\\n            data-pjax\\n            data-hotkey=\"t\">\\n        Find file\\n      </a>\\n      <clipboard-copy\\n            for=\"blob-path\"\\n            aria-label=\"Copy file path to clipboard\"\\n            class=\"btn btn-sm BtnGroup-item tooltipped tooltipped-s\"\\n            copied-label=\"Copied!\">\\n        Copy path\\n      </clipboard-copy>\\n    </div>\\n    <div id=\"blob-path\" class=\"breadcrumb\">\\n      <span class=\"repo-root js-repo-root\"><span class=\"js-path-segment\"><a data-pjax=\"true\" href=\"/wesszabo/numerikus-szamitasok\"><span>numerikus-szamitasok</span></a></span></span><span class=\"separator\">/</span><span class=\"js-path-segment\"><a data-pjax=\"true\" href=\"/wesszabo/numerikus-szamitasok/tree/master/HomeWorks\"><span>HomeWorks</span></a></span><span class=\"separator\">/</span><span class=\"js-path-segment\"><a data-pjax=\"true\" href=\"/wesszabo/numerikus-szamitasok/tree/master/HomeWorks/css\"><span>css</span></a></span><span class=\"separator\">/</span><strong class=\"final-path\">hw.css</strong>\\n    </div>\\n  </div>\\n\\n\\n  <include-fragment src=\"/wesszabo/numerikus-szamitasok/contributors/master/HomeWorks/css/hw.css\" class=\"commit-tease\">\\n    <div>\\n      Fetching contributors&hellip;\\n    </div>\\n\\n    <div class=\"commit-tease-contributors\">\\n      <img alt=\"\" class=\"loader-loading float-left\" src=\"https://assets-cdn.github.com/images/spinners/octocat-spinner-32-EAF2F5.gif\" width=\"16\" height=\"16\" />\\n      <span class=\"loader-error\">Cannot retrieve contributors at this time</span>\\n    </div>\\n</include-fragment>\\n\\n  <div class=\"file\">\\n    <div class=\"file-header\">\\n  <div class=\"file-actions\">\\n\\n    <div class=\"BtnGroup\">\\n      <a id=\"raw-url\" class=\"btn btn-sm BtnGroup-item\" href=\"/wesszabo/numerikus-szamitasok/raw/master/HomeWorks/css/hw.css\">Raw</a>\\n        <a class=\"btn btn-sm js-update-url-with-hash BtnGroup-item\" data-hotkey=\"b\" href=\"/wesszabo/numerikus-szamitasok/blame/master/HomeWorks/css/hw.css\">Blame</a>\\n      <a rel=\"nofollow\" class=\"btn btn-sm BtnGroup-item\" href=\"/wesszabo/numerikus-szamitasok/commits/master/HomeWorks/css/hw.css\">History</a>\\n    </div>\\n\\n\\n        <button type=\"button\" class=\"btn-octicon disabled tooltipped tooltipped-nw\"\\n          aria-label=\"You must be signed in to make or propose changes\">\\n          <svg class=\"octicon octicon-pencil\" viewBox=\"0 0 14 16\" version=\"1.1\" width=\"14\" height=\"16\" aria-hidden=\"true\"><path fill-rule=\"evenodd\" d=\"M0 12v3h3l8-8-3-3-8 8zm3 2H1v-2h1v1h1v1zm10.3-9.3L12 6 9 3l1.3-1.3a.996.996 0 0 1 1.41 0l1.59 1.59c.39.39.39 1.02 0 1.41z\"/></svg>\\n        </button>\\n        <button type=\"button\" class=\"btn-octicon btn-octicon-danger disabled tooltipped tooltipped-nw\"\\n          aria-label=\"You must be signed in to make or propose changes\">\\n          <svg class=\"octicon octicon-trashcan\" viewBox=\"0 0 12 16\" version=\"1.1\" width=\"12\" height=\"16\" aria-hidden=\"true\"><path fill-rule=\"evenodd\" d=\"M11 2H9c0-.55-.45-1-1-1H5c-.55 0-1 .45-1 1H2c-.55 0-1 .45-1 1v1c0 .55.45 1 1 1v9c0 .55.45 1 1 1h7c.55 0 1-.45 1-1V5c.55 0 1-.45 1-1V3c0-.55-.45-1-1-1zm-1 12H3V5h1v8h1V5h1v8h1V5h1v8h1V5h1v9zm1-10H2V3h9v1z\"/></svg>\\n        </button>\\n  </div>\\n\\n  <div class=\"file-info\">\\n      68 lines (60 sloc)\\n      <span class=\"file-info-divider\"></span>\\n    1.3 KB\\n  </div>\\n</div>\\n\\n    \\n\\n  <div itemprop=\"text\" class=\"blob-wrapper data type-css\">\\n      <table class=\"highlight tab-size js-file-line-container\" data-tab-size=\"8\">\\n      <tr>\\n        <td id=\"L1\" class=\"blob-num js-line-number\" data-line-number=\"1\"></td>\\n        <td id=\"LC1\" class=\"blob-code blob-code-inner js-file-line\"><span class=\"pl-ent\">div</span><span class=\"pl-e\">.h1</span> {</td>\\n      </tr>\\n      <tr>\\n        <td id=\"L2\" class=\"blob-num js-line-number\" data-line-number=\"2\"></td>\\n        <td id=\"LC2\" class=\"blob-code blob-code-inner js-file-line\">    <span class=\"pl-c1\"><span class=\"pl-c1\">font-family</span></span>: <span class=\"pl-c1\">Arial</span>, <span class=\"pl-c1\">Helvetica</span>, <span class=\"pl-c1\">sans-serif</span>;</td>\\n      </tr>\\n      <tr>\\n        <td id=\"L3\" class=\"blob-num js-line-number\" data-line-number=\"3\"></td>\\n        <td id=\"LC3\" class=\"blob-code blob-code-inner js-file-line\">    <span class=\"pl-c1\"><span class=\"pl-c1\">font-size</span></span>: <span class=\"pl-c1\">2<span class=\"pl-k\">em</span></span>;</td>\\n      </tr>\\n      <tr>\\n        <td id=\"L4\" class=\"blob-num js-line-number\" data-line-number=\"4\"></td>\\n        <td id=\"LC4\" class=\"blob-code blob-code-inner js-file-line\">    <span class=\"pl-c1\"><span class=\"pl-c1\">font-weight</span></span>: <span class=\"pl-c1\">bold</span>;</td>\\n      </tr>\\n      <tr>\\n        <td id=\"L5\" class=\"blob-num js-line-number\" data-line-number=\"5\"></td>\\n        <td id=\"LC5\" class=\"blob-code blob-code-inner js-file-line\">}</td>\\n      </tr>\\n      <tr>\\n        <td id=\"L6\" class=\"blob-num js-line-number\" data-line-number=\"6\"></td>\\n        <td id=\"LC6\" class=\"blob-code blob-code-inner js-file-line\">\\n</td>\\n      </tr>\\n      <tr>\\n        <td id=\"L7\" class=\"blob-num js-line-number\" data-line-number=\"7\"></td>\\n        <td id=\"LC7\" class=\"blob-code blob-code-inner js-file-line\"><span class=\"pl-ent\">p</span><span class=\"pl-e\">.author</span> {</td>\\n      </tr>\\n      <tr>\\n        <td id=\"L8\" class=\"blob-num js-line-number\" data-line-number=\"8\"></td>\\n        <td id=\"LC8\" class=\"blob-code blob-code-inner js-file-line\">    <span class=\"pl-c1\"><span class=\"pl-c1\">font-family</span></span>: <span class=\"pl-s\"><span class=\"pl-pds\">&#39;</span>Times New Roman<span class=\"pl-pds\">&#39;</span></span>, <span class=\"pl-c1\">Times</span>, <span class=\"pl-c1\">serif</span>;</td>\\n      </tr>\\n      <tr>\\n        <td id=\"L9\" class=\"blob-num js-line-number\" data-line-number=\"9\"></td>\\n        <td id=\"LC9\" class=\"blob-code blob-code-inner js-file-line\">    <span class=\"pl-c1\"><span class=\"pl-c1\">font-size</span></span>: <span class=\"pl-c1\">1.2<span class=\"pl-k\">em</span></span>;</td>\\n      </tr>\\n      <tr>\\n        <td id=\"L10\" class=\"blob-num js-line-number\" data-line-number=\"10\"></td>\\n        <td id=\"LC10\" class=\"blob-code blob-code-inner js-file-line\">    <span class=\"pl-c1\"><span class=\"pl-c1\">text-align</span></span>: <span class=\"pl-c1\">justify</span>;</td>\\n      </tr>\\n      <tr>\\n        <td id=\"L11\" class=\"blob-num js-line-number\" data-line-number=\"11\"></td>\\n        <td id=\"LC11\" class=\"blob-code blob-code-inner js-file-line\">    <span class=\"pl-c1\"><span class=\"pl-c1\">line-height</span></span>: <span class=\"pl-c1\">normal</span>;</td>\\n      </tr>\\n      <tr>\\n        <td id=\"L12\" class=\"blob-num js-line-number\" data-line-number=\"12\"></td>\\n        <td id=\"LC12\" class=\"blob-code blob-code-inner js-file-line\">}</td>\\n      </tr>\\n      <tr>\\n        <td id=\"L13\" class=\"blob-num js-line-number\" data-line-number=\"13\"></td>\\n        <td id=\"LC13\" class=\"blob-code blob-code-inner js-file-line\">\\n</td>\\n      </tr>\\n      <tr>\\n        <td id=\"L14\" class=\"blob-num js-line-number\" data-line-number=\"14\"></td>\\n        <td id=\"LC14\" class=\"blob-code blob-code-inner js-file-line\"><span class=\"pl-ent\">p</span><span class=\"pl-e\">.date</span> {</td>\\n      </tr>\\n      <tr>\\n        <td id=\"L15\" class=\"blob-num js-line-number\" data-line-number=\"15\"></td>\\n        <td id=\"LC15\" class=\"blob-code blob-code-inner js-file-line\">    <span class=\"pl-c1\"><span class=\"pl-c1\">font-family</span></span>: <span class=\"pl-s\"><span class=\"pl-pds\">&#39;</span>Times New Roman<span class=\"pl-pds\">&#39;</span></span>, <span class=\"pl-c1\">Times</span>, <span class=\"pl-c1\">serif</span>;</td>\\n      </tr>\\n      <tr>\\n        <td id=\"L16\" class=\"blob-num js-line-number\" data-line-number=\"16\"></td>\\n        <td id=\"LC16\" class=\"blob-code blob-code-inner js-file-line\">    <span class=\"pl-c1\"><span class=\"pl-c1\">font-size</span></span>: <span class=\"pl-c1\">1<span class=\"pl-k\">em</span></span>;</td>\\n      </tr>\\n      <tr>\\n        <td id=\"L17\" class=\"blob-num js-line-number\" data-line-number=\"17\"></td>\\n        <td id=\"LC17\" class=\"blob-code blob-code-inner js-file-line\">    <span class=\"pl-c1\"><span class=\"pl-c1\">text-align</span></span>: <span class=\"pl-c1\">justify</span>;</td>\\n      </tr>\\n      <tr>\\n        <td id=\"L18\" class=\"blob-num js-line-number\" data-line-number=\"18\"></td>\\n        <td id=\"LC18\" class=\"blob-code blob-code-inner js-file-line\">}</td>\\n      </tr>\\n      <tr>\\n        <td id=\"L19\" class=\"blob-num js-line-number\" data-line-number=\"19\"></td>\\n        <td id=\"LC19\" class=\"blob-code blob-code-inner js-file-line\">\\n</td>\\n      </tr>\\n      <tr>\\n        <td id=\"L20\" class=\"blob-num js-line-number\" data-line-number=\"20\"></td>\\n        <td id=\"LC20\" class=\"blob-code blob-code-inner js-file-line\"><span class=\"pl-ent\">p</span><span class=\"pl-e\">.abstract</span> {</td>\\n      </tr>\\n      <tr>\\n        <td id=\"L21\" class=\"blob-num js-line-number\" data-line-number=\"21\"></td>\\n        <td id=\"LC21\" class=\"blob-code blob-code-inner js-file-line\">    <span class=\"pl-c1\"><span class=\"pl-c1\">font-family</span></span>: <span class=\"pl-s\"><span class=\"pl-pds\">&#39;</span>Times New Roman<span class=\"pl-pds\">&#39;</span></span>, <span class=\"pl-c1\">Times</span>, <span class=\"pl-c1\">serif</span>;</td>\\n      </tr>\\n      <tr>\\n        <td id=\"L22\" class=\"blob-num js-line-number\" data-line-number=\"22\"></td>\\n        <td id=\"LC22\" class=\"blob-code blob-code-inner js-file-line\">    <span class=\"pl-c1\"><span class=\"pl-c1\">font-size</span></span>: <span class=\"pl-c1\">1.5<span class=\"pl-k\">em</span></span>;</td>\\n      </tr>\\n      <tr>\\n        <td id=\"L23\" class=\"blob-num js-line-number\" data-line-number=\"23\"></td>\\n        <td id=\"LC23\" class=\"blob-code blob-code-inner js-file-line\">    <span class=\"pl-c1\"><span class=\"pl-c1\">text-align</span></span>: <span class=\"pl-c1\">left</span>;</td>\\n      </tr>\\n      <tr>\\n        <td id=\"L24\" class=\"blob-num js-line-number\" data-line-number=\"24\"></td>\\n        <td id=\"LC24\" class=\"blob-code blob-code-inner js-file-line\">    <span class=\"pl-c1\"><span class=\"pl-c1\">line-height</span></span>: <span class=\"pl-c1\">1.4</span>;</td>\\n      </tr>\\n      <tr>\\n        <td id=\"L25\" class=\"blob-num js-line-number\" data-line-number=\"25\"></td>\\n        <td id=\"LC25\" class=\"blob-code blob-code-inner js-file-line\">}</td>\\n      </tr>\\n      <tr>\\n        <td id=\"L26\" class=\"blob-num js-line-number\" data-line-number=\"26\"></td>\\n        <td id=\"LC26\" class=\"blob-code blob-code-inner js-file-line\">\\n</td>\\n      </tr>\\n      <tr>\\n        <td id=\"L27\" class=\"blob-num js-line-number\" data-line-number=\"27\"></td>\\n        <td id=\"LC27\" class=\"blob-code blob-code-inner js-file-line\"><span class=\"pl-ent\">p</span><span class=\"pl-e\">.normal</span> {</td>\\n      </tr>\\n      <tr>\\n        <td id=\"L28\" class=\"blob-num js-line-number\" data-line-number=\"28\"></td>\\n        <td id=\"LC28\" class=\"blob-code blob-code-inner js-file-line\">    <span class=\"pl-c1\"><span class=\"pl-c1\">font-family</span></span>: <span class=\"pl-s\"><span class=\"pl-pds\">&#39;</span>Times New Roman<span class=\"pl-pds\">&#39;</span></span>, <span class=\"pl-c1\">Times</span>, <span class=\"pl-c1\">serif</span>;</td>\\n      </tr>\\n      <tr>\\n        <td id=\"L29\" class=\"blob-num js-line-number\" data-line-number=\"29\"></td>\\n        <td id=\"LC29\" class=\"blob-code blob-code-inner js-file-line\">    <span class=\"pl-c1\"><span class=\"pl-c1\">font-size</span></span>: <span class=\"pl-c1\">1.3<span class=\"pl-k\">em</span></span>;</td>\\n      </tr>\\n      <tr>\\n        <td id=\"L30\" class=\"blob-num js-line-number\" data-line-number=\"30\"></td>\\n        <td id=\"LC30\" class=\"blob-code blob-code-inner js-file-line\">    <span class=\"pl-c1\"><span class=\"pl-c1\">text-align</span></span>: <span class=\"pl-c1\">justify</span>;</td>\\n      </tr>\\n      <tr>\\n        <td id=\"L31\" class=\"blob-num js-line-number\" data-line-number=\"31\"></td>\\n        <td id=\"LC31\" class=\"blob-code blob-code-inner js-file-line\">    <span class=\"pl-c1\"><span class=\"pl-c1\">line-height</span></span>: <span class=\"pl-c1\">1.2</span>;</td>\\n      </tr>\\n      <tr>\\n        <td id=\"L32\" class=\"blob-num js-line-number\" data-line-number=\"32\"></td>\\n        <td id=\"LC32\" class=\"blob-code blob-code-inner js-file-line\">}</td>\\n      </tr>\\n      <tr>\\n        <td id=\"L33\" class=\"blob-num js-line-number\" data-line-number=\"33\"></td>\\n        <td id=\"LC33\" class=\"blob-code blob-code-inner js-file-line\">\\n</td>\\n      </tr>\\n      <tr>\\n        <td id=\"L34\" class=\"blob-num js-line-number\" data-line-number=\"34\"></td>\\n        <td id=\"LC34\" class=\"blob-code blob-code-inner js-file-line\"><span class=\"pl-ent\">p</span><span class=\"pl-e\">.normal-indent</span> {</td>\\n      </tr>\\n      <tr>\\n        <td id=\"L35\" class=\"blob-num js-line-number\" data-line-number=\"35\"></td>\\n        <td id=\"LC35\" class=\"blob-code blob-code-inner js-file-line\">    <span class=\"pl-c1\"><span class=\"pl-c1\">font-family</span></span>: <span class=\"pl-s\"><span class=\"pl-pds\">&#39;</span>Times New Roman<span class=\"pl-pds\">&#39;</span></span>, <span class=\"pl-c1\">Times</span>, <span class=\"pl-c1\">serif</span>;</td>\\n      </tr>\\n      <tr>\\n        <td id=\"L36\" class=\"blob-num js-line-number\" data-line-number=\"36\"></td>\\n        <td id=\"LC36\" class=\"blob-code blob-code-inner js-file-line\">    <span class=\"pl-c1\"><span class=\"pl-c1\">font-size</span></span>: <span class=\"pl-c1\">1.3<span class=\"pl-k\">em</span></span>;</td>\\n      </tr>\\n      <tr>\\n        <td id=\"L37\" class=\"blob-num js-line-number\" data-line-number=\"37\"></td>\\n        <td id=\"LC37\" class=\"blob-code blob-code-inner js-file-line\">    <span class=\"pl-c1\"><span class=\"pl-c1\">text-align</span></span>: <span class=\"pl-c1\">justify</span>;</td>\\n      </tr>\\n      <tr>\\n        <td id=\"L38\" class=\"blob-num js-line-number\" data-line-number=\"38\"></td>\\n        <td id=\"LC38\" class=\"blob-code blob-code-inner js-file-line\">    <span class=\"pl-c1\"><span class=\"pl-c1\">line-height</span></span>: <span class=\"pl-c1\">1.2</span>;</td>\\n      </tr>\\n      <tr>\\n        <td id=\"L39\" class=\"blob-num js-line-number\" data-line-number=\"39\"></td>\\n        <td id=\"LC39\" class=\"blob-code blob-code-inner js-file-line\">    <span class=\"pl-c1\"><span class=\"pl-c1\">text-indent</span></span>: <span class=\"pl-c1\">0.5<span class=\"pl-k\">em</span></span>;</td>\\n      </tr>\\n      <tr>\\n        <td id=\"L40\" class=\"blob-num js-line-number\" data-line-number=\"40\"></td>\\n        <td id=\"LC40\" class=\"blob-code blob-code-inner js-file-line\">}</td>\\n      </tr>\\n      <tr>\\n        <td id=\"L41\" class=\"blob-num js-line-number\" data-line-number=\"41\"></td>\\n        <td id=\"LC41\" class=\"blob-code blob-code-inner js-file-line\">\\n</td>\\n      </tr>\\n      <tr>\\n        <td id=\"L42\" class=\"blob-num js-line-number\" data-line-number=\"42\"></td>\\n        <td id=\"LC42\" class=\"blob-code blob-code-inner js-file-line\"><span class=\"pl-e\">.definition</span> {</td>\\n      </tr>\\n      <tr>\\n        <td id=\"L43\" class=\"blob-num js-line-number\" data-line-number=\"43\"></td>\\n        <td id=\"LC43\" class=\"blob-code blob-code-inner js-file-line\">    <span class=\"pl-c1\"><span class=\"pl-c1\">font-size</span></span>: <span class=\"pl-c1\">1.1<span class=\"pl-k\">em</span></span>;</td>\\n      </tr>\\n      <tr>\\n        <td id=\"L44\" class=\"blob-num js-line-number\" data-line-number=\"44\"></td>\\n        <td id=\"LC44\" class=\"blob-code blob-code-inner js-file-line\">    <span class=\"pl-c1\"><span class=\"pl-c1\">text-align</span></span>: <span class=\"pl-c1\">left</span>;</td>\\n      </tr>\\n      <tr>\\n        <td id=\"L45\" class=\"blob-num js-line-number\" data-line-number=\"45\"></td>\\n        <td id=\"LC45\" class=\"blob-code blob-code-inner js-file-line\">    <span class=\"pl-c1\"><span class=\"pl-c1\">border-left-color</span></span>: <span class=\"pl-c1\">blue</span>;</td>\\n      </tr>\\n      <tr>\\n        <td id=\"L46\" class=\"blob-num js-line-number\" data-line-number=\"46\"></td>\\n        <td id=\"LC46\" class=\"blob-code blob-code-inner js-file-line\">    <span class=\"pl-c1\"><span class=\"pl-c1\">border-left-style</span></span>: <span class=\"pl-c1\">solid</span>;</td>\\n      </tr>\\n      <tr>\\n        <td id=\"L47\" class=\"blob-num js-line-number\" data-line-number=\"47\"></td>\\n        <td id=\"LC47\" class=\"blob-code blob-code-inner js-file-line\">    <span class=\"pl-c1\"><span class=\"pl-c1\">border-left-width</span></span>: <span class=\"pl-c1\">0.3<span class=\"pl-k\">em</span></span>;</td>\\n      </tr>\\n      <tr>\\n        <td id=\"L48\" class=\"blob-num js-line-number\" data-line-number=\"48\"></td>\\n        <td id=\"LC48\" class=\"blob-code blob-code-inner js-file-line\">    <span class=\"pl-c1\"><span class=\"pl-c1\">padding-left</span></span>: <span class=\"pl-c1\">0.6<span class=\"pl-k\">em</span></span>;</td>\\n      </tr>\\n      <tr>\\n        <td id=\"L49\" class=\"blob-num js-line-number\" data-line-number=\"49\"></td>\\n        <td id=\"LC49\" class=\"blob-code blob-code-inner js-file-line\">}</td>\\n      </tr>\\n      <tr>\\n        <td id=\"L50\" class=\"blob-num js-line-number\" data-line-number=\"50\"></td>\\n        <td id=\"LC50\" class=\"blob-code blob-code-inner js-file-line\">\\n</td>\\n      </tr>\\n      <tr>\\n        <td id=\"L51\" class=\"blob-num js-line-number\" data-line-number=\"51\"></td>\\n        <td id=\"LC51\" class=\"blob-code blob-code-inner js-file-line\"><span class=\"pl-e\">.theorem</span> {</td>\\n      </tr>\\n      <tr>\\n        <td id=\"L52\" class=\"blob-num js-line-number\" data-line-number=\"52\"></td>\\n        <td id=\"LC52\" class=\"blob-code blob-code-inner js-file-line\">    <span class=\"pl-c1\"><span class=\"pl-c1\">font-size</span></span>: <span class=\"pl-c1\">1.1<span class=\"pl-k\">em</span></span>;</td>\\n      </tr>\\n      <tr>\\n        <td id=\"L53\" class=\"blob-num js-line-number\" data-line-number=\"53\"></td>\\n        <td id=\"LC53\" class=\"blob-code blob-code-inner js-file-line\">    <span class=\"pl-c1\"><span class=\"pl-c1\">text-align</span></span>: <span class=\"pl-c1\">left</span>;</td>\\n      </tr>\\n      <tr>\\n        <td id=\"L54\" class=\"blob-num js-line-number\" data-line-number=\"54\"></td>\\n        <td id=\"LC54\" class=\"blob-code blob-code-inner js-file-line\">    <span class=\"pl-c1\"><span class=\"pl-c1\">border-left-color</span></span>: <span class=\"pl-c1\">rgb</span>(<span class=\"pl-c1\">255</span>, <span class=\"pl-c1\">47</span>, <span class=\"pl-c1\">0</span>);</td>\\n      </tr>\\n      <tr>\\n        <td id=\"L55\" class=\"blob-num js-line-number\" data-line-number=\"55\"></td>\\n        <td id=\"LC55\" class=\"blob-code blob-code-inner js-file-line\">    <span class=\"pl-c1\"><span class=\"pl-c1\">border-left-style</span></span>: <span class=\"pl-c1\">solid</span>;</td>\\n      </tr>\\n      <tr>\\n        <td id=\"L56\" class=\"blob-num js-line-number\" data-line-number=\"56\"></td>\\n        <td id=\"LC56\" class=\"blob-code blob-code-inner js-file-line\">    <span class=\"pl-c1\"><span class=\"pl-c1\">border-left-width</span></span>: <span class=\"pl-c1\">0.3<span class=\"pl-k\">em</span></span>;</td>\\n      </tr>\\n      <tr>\\n        <td id=\"L57\" class=\"blob-num js-line-number\" data-line-number=\"57\"></td>\\n        <td id=\"LC57\" class=\"blob-code blob-code-inner js-file-line\">    <span class=\"pl-c1\"><span class=\"pl-c1\">padding-left</span></span>: <span class=\"pl-c1\">0.6<span class=\"pl-k\">em</span></span>;</td>\\n      </tr>\\n      <tr>\\n        <td id=\"L58\" class=\"blob-num js-line-number\" data-line-number=\"58\"></td>\\n        <td id=\"LC58\" class=\"blob-code blob-code-inner js-file-line\">    <span class=\"pl-c1\"><span class=\"pl-c1\">font-style</span></span>: <span class=\"pl-c1\">italic</span>;</td>\\n      </tr>\\n      <tr>\\n        <td id=\"L59\" class=\"blob-num js-line-number\" data-line-number=\"59\"></td>\\n        <td id=\"LC59\" class=\"blob-code blob-code-inner js-file-line\">}</td>\\n      </tr>\\n      <tr>\\n        <td id=\"L60\" class=\"blob-num js-line-number\" data-line-number=\"60\"></td>\\n        <td id=\"LC60\" class=\"blob-code blob-code-inner js-file-line\">\\n</td>\\n      </tr>\\n      <tr>\\n        <td id=\"L61\" class=\"blob-num js-line-number\" data-line-number=\"61\"></td>\\n        <td id=\"LC61\" class=\"blob-code blob-code-inner js-file-line\"><span class=\"pl-e\">.proof</span> {</td>\\n      </tr>\\n      <tr>\\n        <td id=\"L62\" class=\"blob-num js-line-number\" data-line-number=\"62\"></td>\\n        <td id=\"LC62\" class=\"blob-code blob-code-inner js-file-line\">    <span class=\"pl-c1\"><span class=\"pl-c1\">font-size</span></span>: <span class=\"pl-c1\">1.1<span class=\"pl-k\">em</span></span>;</td>\\n      </tr>\\n      <tr>\\n        <td id=\"L63\" class=\"blob-num js-line-number\" data-line-number=\"63\"></td>\\n        <td id=\"LC63\" class=\"blob-code blob-code-inner js-file-line\">    <span class=\"pl-c1\"><span class=\"pl-c1\">text-align</span></span>: <span class=\"pl-c1\">left</span>;</td>\\n      </tr>\\n      <tr>\\n        <td id=\"L64\" class=\"blob-num js-line-number\" data-line-number=\"64\"></td>\\n        <td id=\"LC64\" class=\"blob-code blob-code-inner js-file-line\">    <span class=\"pl-c1\"><span class=\"pl-c1\">border-left-color</span></span>: <span class=\"pl-c1\">rgb</span>(<span class=\"pl-c1\">19</span>, <span class=\"pl-c1\">114</span>, <span class=\"pl-c1\">27</span>);</td>\\n      </tr>\\n      <tr>\\n        <td id=\"L65\" class=\"blob-num js-line-number\" data-line-number=\"65\"></td>\\n        <td id=\"LC65\" class=\"blob-code blob-code-inner js-file-line\">    <span class=\"pl-c1\"><span class=\"pl-c1\">border-left-style</span></span>: <span class=\"pl-c1\">solid</span>;</td>\\n      </tr>\\n      <tr>\\n        <td id=\"L66\" class=\"blob-num js-line-number\" data-line-number=\"66\"></td>\\n        <td id=\"LC66\" class=\"blob-code blob-code-inner js-file-line\">    <span class=\"pl-c1\"><span class=\"pl-c1\">border-left-width</span></span>: <span class=\"pl-c1\">0.3<span class=\"pl-k\">em</span></span>;</td>\\n      </tr>\\n      <tr>\\n        <td id=\"L67\" class=\"blob-num js-line-number\" data-line-number=\"67\"></td>\\n        <td id=\"LC67\" class=\"blob-code blob-code-inner js-file-line\">    <span class=\"pl-c1\"><span class=\"pl-c1\">padding-left</span></span>: <span class=\"pl-c1\">0.6<span class=\"pl-k\">em</span></span>;</td>\\n      </tr>\\n      <tr>\\n        <td id=\"L68\" class=\"blob-num js-line-number\" data-line-number=\"68\"></td>\\n        <td id=\"LC68\" class=\"blob-code blob-code-inner js-file-line\">}</td>\\n      </tr>\\n</table>\\n\\n  <div class=\"BlobToolbar position-absolute js-file-line-actions dropdown js-menu-container js-select-menu d-none\" aria-hidden=\"true\">\\n    <button class=\"btn-octicon ml-0 px-2 p-0 bg-white border border-gray-dark rounded-1 dropdown-toggle js-menu-target\" id=\"js-file-line-action-button\" type=\"button\" aria-expanded=\"false\" aria-haspopup=\"true\" aria-label=\"Inline file action toolbar\" aria-controls=\"inline-file-actions\">\\n      <svg class=\"octicon octicon-kebab-horizontal\" viewBox=\"0 0 13 16\" version=\"1.1\" width=\"13\" height=\"16\" aria-hidden=\"true\"><path fill-rule=\"evenodd\" d=\"M1.5 9a1.5 1.5 0 1 1 0-3 1.5 1.5 0 0 1 0 3zm5 0a1.5 1.5 0 1 1 0-3 1.5 1.5 0 0 1 0 3zm5 0a1.5 1.5 0 1 1 0-3 1.5 1.5 0 0 1 0 3z\"/></svg>\\n    </button>\\n    <div class=\"dropdown-menu-content js-menu-content\" id=\"inline-file-actions\">\\n      <ul class=\"BlobToolbar-dropdown dropdown-menu dropdown-menu-se mt-2\">\\n        <li><clipboard-copy class=\"dropdown-item\" style=\"cursor:pointer;\" id=\"js-copy-lines\" data-original-text=\"Copy lines\">Copy lines</clipboard-copy></li>\\n        <li><clipboard-copy class=\"dropdown-item\" id=\"js-copy-permalink\" style=\"cursor:pointer;\" data-original-text=\"Copy permalink\">Copy permalink</clipboard-copy></li>\\n        <li><a class=\"dropdown-item js-update-url-with-hash\" id=\"js-view-git-blame\" href=\"/wesszabo/numerikus-szamitasok/blame/643010b9b06d17337e3b14cd7e0e8bb1393689f9/HomeWorks/css/hw.css\">View git blame</a></li>\\n          <li><a class=\"dropdown-item\" id=\"js-new-issue\" href=\"/wesszabo/numerikus-szamitasok/issues/new\">Open new issue</a></li>\\n      </ul>\\n    </div>\\n  </div>\\n\\n  </div>\\n\\n  </div>\\n\\n  <button type=\"button\" data-facebox=\"#jump-to-line\" data-facebox-class=\"linejump\" data-hotkey=\"l\" class=\"d-none\">Jump to Line</button>\\n  <div id=\"jump-to-line\" style=\"display:none\">\\n    <!-- \\'\"` --><!-- </textarea></xmp> --></option></form><form class=\"js-jump-to-line-form\" action=\"\" accept-charset=\"UTF-8\" method=\"get\"><input name=\"utf8\" type=\"hidden\" value=\"&#x2713;\" />\\n      <input class=\"form-control linejump-input js-jump-to-line-field\" type=\"text\" placeholder=\"Jump to line&hellip;\" aria-label=\"Jump to line\" autofocus>\\n      <button type=\"submit\" class=\"btn\">Go</button>\\n</form>  </div>\\n\\n\\n  </div>\\n  <div class=\"modal-backdrop js-touch-events\"></div>\\n</div>\\n\\n    </div>\\n  </div>\\n\\n  </div>\\n\\n      \\n<div class=\"footer container-lg px-3\" role=\"contentinfo\">\\n  <div class=\"position-relative d-flex flex-justify-between pt-6 pb-2 mt-6 f6 text-gray border-top border-gray-light \">\\n    <ul class=\"list-style-none d-flex flex-wrap \">\\n      <li class=\"mr-3\">&copy; 2018 <span title=\"0.19574s from unicorn-2883014176-ds6qh\">GitHub</span>, Inc.</li>\\n        <li class=\"mr-3\"><a data-ga-click=\"Footer, go to terms, text:terms\" href=\"https://github.com/site/terms\">Terms</a></li>\\n        <li class=\"mr-3\"><a data-ga-click=\"Footer, go to privacy, text:privacy\" href=\"https://github.com/site/privacy\">Privacy</a></li>\\n        <li class=\"mr-3\"><a href=\"https://help.github.com/articles/github-security/\" data-ga-click=\"Footer, go to security, text:security\">Security</a></li>\\n        <li class=\"mr-3\"><a href=\"https://status.github.com/\" data-ga-click=\"Footer, go to status, text:status\">Status</a></li>\\n        <li><a data-ga-click=\"Footer, go to help, text:help\" href=\"https://help.github.com\">Help</a></li>\\n    </ul>\\n\\n    <a aria-label=\"Homepage\" title=\"GitHub\" class=\"footer-octicon\" href=\"https://github.com\">\\n      <svg height=\"24\" class=\"octicon octicon-mark-github\" viewBox=\"0 0 16 16\" version=\"1.1\" width=\"24\" aria-hidden=\"true\"><path fill-rule=\"evenodd\" d=\"M8 0C3.58 0 0 3.58 0 8c0 3.54 2.29 6.53 5.47 7.59.4.07.55-.17.55-.38 0-.19-.01-.82-.01-1.49-2.01.37-2.53-.49-2.69-.94-.09-.23-.48-.94-.82-1.13-.28-.15-.68-.52-.01-.53.63-.01 1.08.58 1.23.82.72 1.21 1.87.87 2.33.66.07-.52.28-.87.51-1.07-1.78-.2-3.64-.89-3.64-3.95 0-.87.31-1.59.82-2.15-.08-.2-.36-1.02.08-2.12 0 0 .67-.21 2.2.82.64-.18 1.32-.27 2-.27.68 0 1.36.09 2 .27 1.53-1.04 2.2-.82 2.2-.82.44 1.1.16 1.92.08 2.12.51.56.82 1.27.82 2.15 0 3.07-1.87 3.75-3.65 3.95.29.25.54.73.54 1.48 0 1.07-.01 1.93-.01 2.2 0 .21.15.46.55.38A8.013 8.013 0 0 0 16 8c0-4.42-3.58-8-8-8z\"/></svg>\\n</a>\\n   <ul class=\"list-style-none d-flex flex-wrap \">\\n        <li class=\"mr-3\"><a data-ga-click=\"Footer, go to contact, text:contact\" href=\"https://github.com/contact\">Contact GitHub</a></li>\\n      <li class=\"mr-3\"><a href=\"https://developer.github.com\" data-ga-click=\"Footer, go to api, text:api\">API</a></li>\\n      <li class=\"mr-3\"><a href=\"https://training.github.com\" data-ga-click=\"Footer, go to training, text:training\">Training</a></li>\\n      <li class=\"mr-3\"><a href=\"https://shop.github.com\" data-ga-click=\"Footer, go to shop, text:shop\">Shop</a></li>\\n        <li class=\"mr-3\"><a href=\"https://blog.github.com\" data-ga-click=\"Footer, go to blog, text:blog\">Blog</a></li>\\n        <li><a data-ga-click=\"Footer, go to about, text:about\" href=\"https://github.com/about\">About</a></li>\\n\\n    </ul>\\n  </div>\\n  <div class=\"d-flex flex-justify-center pb-6\">\\n    <span class=\"f6 text-gray-light\"></span>\\n  </div>\\n</div>\\n\\n\\n\\n  <div id=\"ajax-error-message\" class=\"ajax-error-message flash flash-error\">\\n    <svg class=\"octicon octicon-alert\" viewBox=\"0 0 16 16\" version=\"1.1\" width=\"16\" height=\"16\" aria-hidden=\"true\"><path fill-rule=\"evenodd\" d=\"M8.865 1.52c-.18-.31-.51-.5-.87-.5s-.69.19-.87.5L.275 13.5c-.18.31-.18.69 0 1 .19.31.52.5.87.5h13.7c.36 0 .69-.19.86-.5.17-.31.18-.69.01-1L8.865 1.52zM8.995 13h-2v-2h2v2zm0-3h-2V6h2v4z\"/></svg>\\n    <button type=\"button\" class=\"flash-close js-ajax-error-dismiss\" aria-label=\"Dismiss error\">\\n      <svg class=\"octicon octicon-x\" viewBox=\"0 0 12 16\" version=\"1.1\" width=\"12\" height=\"16\" aria-hidden=\"true\"><path fill-rule=\"evenodd\" d=\"M7.48 8l3.75 3.75-1.48 1.48L6 9.48l-3.75 3.75-1.48-1.48L4.52 8 .77 4.25l1.48-1.48L6 6.52l3.75-3.75 1.48 1.48z\"/></svg>\\n    </button>\\n    You can\\'t perform that action at this time.\\n  </div>\\n\\n\\n    <script crossorigin=\"anonymous\" type=\"application/javascript\" src=\"https://assets-cdn.github.com/assets/compat-413dd2a0695c3dfaf7de158468a91646.js\"></script>\\n    <script crossorigin=\"anonymous\" type=\"application/javascript\" src=\"https://assets-cdn.github.com/assets/frameworks-f2d2015a790169684fdc14f1bb2a7a19.js\"></script>\\n    \\n    <script crossorigin=\"anonymous\" async=\"async\" type=\"application/javascript\" src=\"https://assets-cdn.github.com/assets/github-683b7dfaa058eed3ab827e1372c38947.js\"></script>\\n    \\n    \\n    \\n    \\n  <div class=\"js-stale-session-flash stale-session-flash flash flash-warn flash-banner d-none\">\\n    <svg class=\"octicon octicon-alert\" viewBox=\"0 0 16 16\" version=\"1.1\" width=\"16\" height=\"16\" aria-hidden=\"true\"><path fill-rule=\"evenodd\" d=\"M8.865 1.52c-.18-.31-.51-.5-.87-.5s-.69.19-.87.5L.275 13.5c-.18.31-.18.69 0 1 .19.31.52.5.87.5h13.7c.36 0 .69-.19.86-.5.17-.31.18-.69.01-1L8.865 1.52zM8.995 13h-2v-2h2v2zm0-3h-2V6h2v4z\"/></svg>\\n    <span class=\"signed-in-tab-flash\">You signed in with another tab or window. <a href=\"\">Reload</a> to refresh your session.</span>\\n    <span class=\"signed-out-tab-flash\">You signed out in another tab or window. <a href=\"\">Reload</a> to refresh your session.</span>\\n  </div>\\n  <div class=\"facebox\" id=\"facebox\" style=\"display:none;\">\\n  <div class=\"facebox-popup\">\\n    <div class=\"facebox-content\" role=\"dialog\" aria-labelledby=\"facebox-header\" aria-describedby=\"facebox-description\">\\n    </div>\\n    <button type=\"button\" class=\"facebox-close js-facebox-close\" aria-label=\"Close modal\">\\n      <svg class=\"octicon octicon-x\" viewBox=\"0 0 12 16\" version=\"1.1\" width=\"12\" height=\"16\" aria-hidden=\"true\"><path fill-rule=\"evenodd\" d=\"M7.48 8l3.75 3.75-1.48 1.48L6 9.48l-3.75 3.75-1.48-1.48L4.52 8 .77 4.25l1.48-1.48L6 6.52l3.75-3.75 1.48 1.48z\"/></svg>\\n    </button>\\n  </div>\\n</div>\\n\\n  <div class=\"Popover js-hovercard-content position-absolute\" style=\"display: none; outline: none;\" tabindex=\"0\">\\n  <div class=\"Popover-message Popover-message--bottom-left Popover-message--large Box box-shadow-large\" style=\"width:360px;\">\\n  </div>\\n</div>\\n\\n<div id=\"hovercard-aria-description\" class=\"sr-only\">\\n  Press h to open a hovercard with more details.\\n</div>\\n\\n\\n  </body>\\n</html>\\n\\n'\n"
     ]
    }
   ],
   "source": [
    "from IPython.display import HTML\n",
    "import requests\n",
    "url = 'https://github.com/wesszabo/numerikus-szamitasok/blob/master/HomeWorks/css/hw.css'\n",
    "r = requests.get(url)\n",
    "print(r.content)"
   ]
  },
  {
   "cell_type": "code",
   "execution_count": 15,
   "metadata": {},
   "outputs": [
    {
     "data": {
      "text/html": [
       "<script src=\"https://cdn.rawgit.com/parente/4c3e6936d0d7a46fd071/raw/65b816fb9bdd3c28b4ddf3af602bfd6015486383/code_toggle.js\"></script>"
      ],
      "text/plain": [
       "<IPython.core.display.HTML object>"
      ]
     },
     "metadata": {},
     "output_type": "display_data"
    }
   ],
   "source": [
    "%%html\n",
    "<script src=\"https://cdn.rawgit.com/parente/4c3e6936d0d7a46fd071/raw/65b816fb9bdd3c28b4ddf3af602bfd6015486383/code_toggle.js\"></script>"
   ]
  },
  {
   "cell_type": "code",
   "execution_count": null,
   "metadata": {
    "collapsed": true
   },
   "outputs": [],
   "source": [
    "wget.download('url', file_name)"
   ]
  }
 ],
 "metadata": {
  "kernelspec": {
   "display_name": "Python 3",
   "language": "python",
   "name": "python3"
  },
  "language_info": {
   "codemirror_mode": {
    "name": "ipython",
    "version": 3
   },
   "file_extension": ".py",
   "mimetype": "text/x-python",
   "name": "python",
   "nbconvert_exporter": "python",
   "pygments_lexer": "ipython3",
   "version": "3.6.2"
  },
  "latex_envs": {
   "LaTeX_envs_menu_present": true,
   "autocomplete": true,
   "bibliofile": "biblio.bib",
   "cite_by": "apalike",
   "current_citInitial": 1,
   "eqLabelWithNumbers": true,
   "eqNumInitial": 1,
   "hotkeys": {
    "equation": "Ctrl-E",
    "itemize": "Ctrl-I"
   },
   "labels_anchors": false,
   "latex_user_defs": false,
   "report_style_numbering": false,
   "user_envs_cfg": false
  },
  "toc": {
   "colors": {
    "hover_highlight": "#DAA520",
    "navigate_num": "#0000ff",
    "navigate_text": "#0000ff",
    "running_highlight": "#FF0000",
    "selected_highlight": "#FFD700",
    "sidebar_border": "#EEEEEE",
    "wrapper_background": "#FFFFFF"
   },
   "moveMenuLeft": true,
   "nav_menu": {
    "height": "12px",
    "width": "252px"
   },
   "navigate_menu": true,
   "number_sections": true,
   "sideBar": true,
   "threshold": 4,
   "toc_cell": true,
   "toc_section_display": "block",
   "toc_window_display": false,
   "widenNotebook": false
  }
 },
 "nbformat": 4,
 "nbformat_minor": 2
}
